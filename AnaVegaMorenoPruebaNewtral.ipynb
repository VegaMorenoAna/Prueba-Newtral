{
  "nbformat": 4,
  "nbformat_minor": 0,
  "metadata": {
    "colab": {
      "name": "Copia de AnaVegaMorenoPruebaNewtral.ipynb",
      "provenance": [],
      "include_colab_link": true
    },
    "kernelspec": {
      "name": "python3",
      "display_name": "Python 3"
    },
    "language_info": {
      "name": "python"
    },
    "accelerator": "GPU"
  },
  "cells": [
    {
      "cell_type": "markdown",
      "metadata": {
        "id": "view-in-github",
        "colab_type": "text"
      },
      "source": [
        "<a href=\"https://colab.research.google.com/github/VegaMorenoAna/Prueba-Newtral/blob/main/AnaVegaMorenoPruebaNewtral.ipynb\" target=\"_parent\"><img src=\"https://colab.research.google.com/assets/colab-badge.svg\" alt=\"Open In Colab\"/></a>"
      ]
    },
    {
      "cell_type": "markdown",
      "source": [
        "**Ana Vega Moreno**"
      ],
      "metadata": {
        "id": "2g1yCHMes0ol"
      }
    },
    {
      "cell_type": "markdown",
      "source": [
        "En primer lugar instalamos las librerías que vamos a necesitar e importamos lo necesario de cada una de ellas."
      ],
      "metadata": {
        "id": "iCotqR0As74H"
      }
    },
    {
      "cell_type": "code",
      "execution_count": 1,
      "metadata": {
        "colab": {
          "base_uri": "https://localhost:8080/"
        },
        "id": "DmLULgoYX24P",
        "outputId": "5328d630-92aa-4981-8970-3eadbc2dab89"
      },
      "outputs": [
        {
          "output_type": "stream",
          "name": "stdout",
          "text": [
            "Requirement already satisfied: transformers in /usr/local/lib/python3.7/dist-packages (4.18.0)\n",
            "Requirement already satisfied: numpy in /usr/local/lib/python3.7/dist-packages (1.21.5)\n",
            "Requirement already satisfied: torch in /usr/local/lib/python3.7/dist-packages (1.10.0+cu111)\n",
            "Requirement already satisfied: sklearn in /usr/local/lib/python3.7/dist-packages (0.0)\n",
            "Requirement already satisfied: sacremoses in /usr/local/lib/python3.7/dist-packages (from transformers) (0.0.49)\n",
            "Requirement already satisfied: regex!=2019.12.17 in /usr/local/lib/python3.7/dist-packages (from transformers) (2019.12.20)\n",
            "Requirement already satisfied: tqdm>=4.27 in /usr/local/lib/python3.7/dist-packages (from transformers) (4.63.0)\n",
            "Requirement already satisfied: packaging>=20.0 in /usr/local/lib/python3.7/dist-packages (from transformers) (21.3)\n",
            "Requirement already satisfied: importlib-metadata in /usr/local/lib/python3.7/dist-packages (from transformers) (4.11.3)\n",
            "Requirement already satisfied: filelock in /usr/local/lib/python3.7/dist-packages (from transformers) (3.6.0)\n",
            "Requirement already satisfied: huggingface-hub<1.0,>=0.1.0 in /usr/local/lib/python3.7/dist-packages (from transformers) (0.5.1)\n",
            "Requirement already satisfied: pyyaml>=5.1 in /usr/local/lib/python3.7/dist-packages (from transformers) (6.0)\n",
            "Requirement already satisfied: requests in /usr/local/lib/python3.7/dist-packages (from transformers) (2.23.0)\n",
            "Requirement already satisfied: tokenizers!=0.11.3,<0.13,>=0.11.1 in /usr/local/lib/python3.7/dist-packages (from transformers) (0.11.6)\n",
            "Requirement already satisfied: typing-extensions>=3.7.4.3 in /usr/local/lib/python3.7/dist-packages (from huggingface-hub<1.0,>=0.1.0->transformers) (3.10.0.2)\n",
            "Requirement already satisfied: pyparsing!=3.0.5,>=2.0.2 in /usr/local/lib/python3.7/dist-packages (from packaging>=20.0->transformers) (3.0.7)\n",
            "Requirement already satisfied: scikit-learn in /usr/local/lib/python3.7/dist-packages (from sklearn) (1.0.2)\n",
            "Requirement already satisfied: zipp>=0.5 in /usr/local/lib/python3.7/dist-packages (from importlib-metadata->transformers) (3.7.0)\n",
            "Requirement already satisfied: urllib3!=1.25.0,!=1.25.1,<1.26,>=1.21.1 in /usr/local/lib/python3.7/dist-packages (from requests->transformers) (1.24.3)\n",
            "Requirement already satisfied: certifi>=2017.4.17 in /usr/local/lib/python3.7/dist-packages (from requests->transformers) (2021.10.8)\n",
            "Requirement already satisfied: idna<3,>=2.5 in /usr/local/lib/python3.7/dist-packages (from requests->transformers) (2.10)\n",
            "Requirement already satisfied: chardet<4,>=3.0.2 in /usr/local/lib/python3.7/dist-packages (from requests->transformers) (3.0.4)\n",
            "Requirement already satisfied: joblib in /usr/local/lib/python3.7/dist-packages (from sacremoses->transformers) (1.1.0)\n",
            "Requirement already satisfied: six in /usr/local/lib/python3.7/dist-packages (from sacremoses->transformers) (1.15.0)\n",
            "Requirement already satisfied: click in /usr/local/lib/python3.7/dist-packages (from sacremoses->transformers) (7.1.2)\n",
            "Requirement already satisfied: threadpoolctl>=2.0.0 in /usr/local/lib/python3.7/dist-packages (from scikit-learn->sklearn) (3.1.0)\n",
            "Requirement already satisfied: scipy>=1.1.0 in /usr/local/lib/python3.7/dist-packages (from scikit-learn->sklearn) (1.4.1)\n"
          ]
        }
      ],
      "source": [
        "pip install transformers numpy torch sklearn"
      ]
    },
    {
      "cell_type": "code",
      "source": [
        "import torch\n",
        "from transformers.file_utils import is_tf_available, is_torch_available, is_torch_tpu_available\n",
        "from transformers import BertTokenizerFast, BertForSequenceClassification\n",
        "from transformers import Trainer, TrainingArguments\n",
        "import numpy as np\n",
        "import random\n",
        "import pandas as pd"
      ],
      "metadata": {
        "id": "crO05E3cdSsX"
      },
      "execution_count": 2,
      "outputs": []
    },
    {
      "cell_type": "markdown",
      "source": [
        "Para que siempre aporte los mismos resultados creamos una función para fijar la semilla."
      ],
      "metadata": {
        "id": "Ogz4e0httnTd"
      }
    },
    {
      "cell_type": "code",
      "source": [
        "def set_seed(seed: int):\n",
        "    \"\"\"\n",
        "    Función para fijar la semilla.\n",
        "\n",
        "    Args:\n",
        "        seed (:obj:`int`): Número que representa la semilla a fijar.\n",
        "    \"\"\"\n",
        "    random.seed(seed)\n",
        "    np.random.seed(seed)\n",
        "    if is_torch_available():\n",
        "        torch.manual_seed(seed)\n",
        "    if is_tf_available():\n",
        "        import tensorflow as tf\n",
        "\n",
        "        tf.random.set_seed(seed)\n",
        "\n",
        "set_seed(1)"
      ],
      "metadata": {
        "id": "7r1dNJrvd-qA"
      },
      "execution_count": 3,
      "outputs": []
    },
    {
      "cell_type": "markdown",
      "source": [
        "Permito a google colab que acceda a mi drive, que es donde tengo los archivos csv."
      ],
      "metadata": {
        "id": "rEusuCVuwjxl"
      }
    },
    {
      "cell_type": "code",
      "source": [
        "from google.colab import drive\n",
        "drive.mount('/content/drive')\n",
        "\n",
        "!ls /content/drive/"
      ],
      "metadata": {
        "colab": {
          "base_uri": "https://localhost:8080/"
        },
        "id": "C3sBfk9ymhZI",
        "outputId": "119a9690-7f94-462a-c9b8-701f30e584cf"
      },
      "execution_count": 4,
      "outputs": [
        {
          "output_type": "stream",
          "name": "stdout",
          "text": [
            "Drive already mounted at /content/drive; to attempt to forcibly remount, call drive.mount(\"/content/drive\", force_remount=True).\n",
            "MyDrive\n"
          ]
        }
      ]
    },
    {
      "cell_type": "code",
      "source": [
        "# Cargamos los datos\n",
        "train = pd.read_csv('/content/drive/MyDrive/webis_train.csv')\n",
        "test = pd.read_csv('/content/drive/MyDrive/webis_test.csv')"
      ],
      "metadata": {
        "id": "pNohj-lKkeUT"
      },
      "execution_count": 5,
      "outputs": []
    },
    {
      "cell_type": "code",
      "source": [
        "# Muestro como vienen los datasets.\n",
        "train.head(3)"
      ],
      "metadata": {
        "colab": {
          "base_uri": "https://localhost:8080/",
          "height": 257
        },
        "id": "6cYgEwG3yJ5Q",
        "outputId": "05c6f316-911e-4f72-aa4f-42b97d08aa58"
      },
      "execution_count": 6,
      "outputs": [
        {
          "output_type": "execute_result",
          "data": {
            "text/plain": [
              "   Unnamed: 0 postMedia                                           postText  \\\n",
              "0           0        []  UK’s response to modern slavery leaving victim...   \n",
              "1           1        []                                       this is good   \n",
              "2           2        []  The \"forgotten\" Trump roast: Relive his brutal...   \n",
              "\n",
              "                   id                                     targetCaptions  \\\n",
              "0  858462320779026432                         ['modern-slavery-rex.jpg']   \n",
              "1  858421020331560960  ['In this July 1, 2010 file photo, Dr. Charmai...   \n",
              "2  858368123753435136  [\"President Trump will not attend this year's ...   \n",
              "\n",
              "                                    targetParagraphs  \\\n",
              "0  ['Thousands of modern slavery victims have\\xa0...   \n",
              "1  ['President Donald Trump has appointed the\\xa0...   \n",
              "2  ['When the\\xa0White House correspondents’ dinn...   \n",
              "\n",
              "                                         targetTitle  \\\n",
              "0  ‘Inexcusable’ failures in UK’s response to mod...   \n",
              "1  Donald Trump Appoints Pro-Life Advocate as Ass...   \n",
              "2  The ‘forgotten’ Trump roast: Relive his brutal...   \n",
              "\n",
              "                    postTimestamp  \\\n",
              "0  Sat Apr 29 23:25:41 +0000 2017   \n",
              "1  Sat Apr 29 20:41:34 +0000 2017   \n",
              "2  Sat Apr 29 17:11:23 +0000 2017   \n",
              "\n",
              "                                      targetKeywords  \\\n",
              "0  modern slavery, Department For Work And Pensio...   \n",
              "1  Americans United for Life, Dr. Charmaine Yoest...   \n",
              "2  trump whcd, whcd, white house correspondents d...   \n",
              "\n",
              "                                   targetDescription  \\\n",
              "0  “Inexcusable” failures in the UK’s system for ...   \n",
              "1  President Donald Trump has appointed pro-life ...   \n",
              "2  President Trump won't be at this year's White ...   \n",
              "\n",
              "                                      truthJudgments  truthMean    truthClass  \\\n",
              "0  [0.33333333330000003, 0.0, 0.33333333330000003...   0.133333  no-clickbait   \n",
              "1                          [1.0, 1.0, 1.0, 1.0, 1.0]   1.000000     clickbait   \n",
              "2  [0.33333333330000003, 1.0, 0.33333333330000003...   0.466667  no-clickbait   \n",
              "\n",
              "   truthMedian  truthMode  \n",
              "0     0.000000   0.000000  \n",
              "1     1.000000   1.000000  \n",
              "2     0.333333   0.333333  "
            ],
            "text/html": [
              "\n",
              "  <div id=\"df-3497acf1-5886-4add-be1e-c4645b3618c3\">\n",
              "    <div class=\"colab-df-container\">\n",
              "      <div>\n",
              "<style scoped>\n",
              "    .dataframe tbody tr th:only-of-type {\n",
              "        vertical-align: middle;\n",
              "    }\n",
              "\n",
              "    .dataframe tbody tr th {\n",
              "        vertical-align: top;\n",
              "    }\n",
              "\n",
              "    .dataframe thead th {\n",
              "        text-align: right;\n",
              "    }\n",
              "</style>\n",
              "<table border=\"1\" class=\"dataframe\">\n",
              "  <thead>\n",
              "    <tr style=\"text-align: right;\">\n",
              "      <th></th>\n",
              "      <th>Unnamed: 0</th>\n",
              "      <th>postMedia</th>\n",
              "      <th>postText</th>\n",
              "      <th>id</th>\n",
              "      <th>targetCaptions</th>\n",
              "      <th>targetParagraphs</th>\n",
              "      <th>targetTitle</th>\n",
              "      <th>postTimestamp</th>\n",
              "      <th>targetKeywords</th>\n",
              "      <th>targetDescription</th>\n",
              "      <th>truthJudgments</th>\n",
              "      <th>truthMean</th>\n",
              "      <th>truthClass</th>\n",
              "      <th>truthMedian</th>\n",
              "      <th>truthMode</th>\n",
              "    </tr>\n",
              "  </thead>\n",
              "  <tbody>\n",
              "    <tr>\n",
              "      <th>0</th>\n",
              "      <td>0</td>\n",
              "      <td>[]</td>\n",
              "      <td>UK’s response to modern slavery leaving victim...</td>\n",
              "      <td>858462320779026432</td>\n",
              "      <td>['modern-slavery-rex.jpg']</td>\n",
              "      <td>['Thousands of modern slavery victims have\\xa0...</td>\n",
              "      <td>‘Inexcusable’ failures in UK’s response to mod...</td>\n",
              "      <td>Sat Apr 29 23:25:41 +0000 2017</td>\n",
              "      <td>modern slavery, Department For Work And Pensio...</td>\n",
              "      <td>“Inexcusable” failures in the UK’s system for ...</td>\n",
              "      <td>[0.33333333330000003, 0.0, 0.33333333330000003...</td>\n",
              "      <td>0.133333</td>\n",
              "      <td>no-clickbait</td>\n",
              "      <td>0.000000</td>\n",
              "      <td>0.000000</td>\n",
              "    </tr>\n",
              "    <tr>\n",
              "      <th>1</th>\n",
              "      <td>1</td>\n",
              "      <td>[]</td>\n",
              "      <td>this is good</td>\n",
              "      <td>858421020331560960</td>\n",
              "      <td>['In this July 1, 2010 file photo, Dr. Charmai...</td>\n",
              "      <td>['President Donald Trump has appointed the\\xa0...</td>\n",
              "      <td>Donald Trump Appoints Pro-Life Advocate as Ass...</td>\n",
              "      <td>Sat Apr 29 20:41:34 +0000 2017</td>\n",
              "      <td>Americans United for Life, Dr. Charmaine Yoest...</td>\n",
              "      <td>President Donald Trump has appointed pro-life ...</td>\n",
              "      <td>[1.0, 1.0, 1.0, 1.0, 1.0]</td>\n",
              "      <td>1.000000</td>\n",
              "      <td>clickbait</td>\n",
              "      <td>1.000000</td>\n",
              "      <td>1.000000</td>\n",
              "    </tr>\n",
              "    <tr>\n",
              "      <th>2</th>\n",
              "      <td>2</td>\n",
              "      <td>[]</td>\n",
              "      <td>The \"forgotten\" Trump roast: Relive his brutal...</td>\n",
              "      <td>858368123753435136</td>\n",
              "      <td>[\"President Trump will not attend this year's ...</td>\n",
              "      <td>['When the\\xa0White House correspondents’ dinn...</td>\n",
              "      <td>The ‘forgotten’ Trump roast: Relive his brutal...</td>\n",
              "      <td>Sat Apr 29 17:11:23 +0000 2017</td>\n",
              "      <td>trump whcd, whcd, white house correspondents d...</td>\n",
              "      <td>President Trump won't be at this year's White ...</td>\n",
              "      <td>[0.33333333330000003, 1.0, 0.33333333330000003...</td>\n",
              "      <td>0.466667</td>\n",
              "      <td>no-clickbait</td>\n",
              "      <td>0.333333</td>\n",
              "      <td>0.333333</td>\n",
              "    </tr>\n",
              "  </tbody>\n",
              "</table>\n",
              "</div>\n",
              "      <button class=\"colab-df-convert\" onclick=\"convertToInteractive('df-3497acf1-5886-4add-be1e-c4645b3618c3')\"\n",
              "              title=\"Convert this dataframe to an interactive table.\"\n",
              "              style=\"display:none;\">\n",
              "        \n",
              "  <svg xmlns=\"http://www.w3.org/2000/svg\" height=\"24px\"viewBox=\"0 0 24 24\"\n",
              "       width=\"24px\">\n",
              "    <path d=\"M0 0h24v24H0V0z\" fill=\"none\"/>\n",
              "    <path d=\"M18.56 5.44l.94 2.06.94-2.06 2.06-.94-2.06-.94-.94-2.06-.94 2.06-2.06.94zm-11 1L8.5 8.5l.94-2.06 2.06-.94-2.06-.94L8.5 2.5l-.94 2.06-2.06.94zm10 10l.94 2.06.94-2.06 2.06-.94-2.06-.94-.94-2.06-.94 2.06-2.06.94z\"/><path d=\"M17.41 7.96l-1.37-1.37c-.4-.4-.92-.59-1.43-.59-.52 0-1.04.2-1.43.59L10.3 9.45l-7.72 7.72c-.78.78-.78 2.05 0 2.83L4 21.41c.39.39.9.59 1.41.59.51 0 1.02-.2 1.41-.59l7.78-7.78 2.81-2.81c.8-.78.8-2.07 0-2.86zM5.41 20L4 18.59l7.72-7.72 1.47 1.35L5.41 20z\"/>\n",
              "  </svg>\n",
              "      </button>\n",
              "      \n",
              "  <style>\n",
              "    .colab-df-container {\n",
              "      display:flex;\n",
              "      flex-wrap:wrap;\n",
              "      gap: 12px;\n",
              "    }\n",
              "\n",
              "    .colab-df-convert {\n",
              "      background-color: #E8F0FE;\n",
              "      border: none;\n",
              "      border-radius: 50%;\n",
              "      cursor: pointer;\n",
              "      display: none;\n",
              "      fill: #1967D2;\n",
              "      height: 32px;\n",
              "      padding: 0 0 0 0;\n",
              "      width: 32px;\n",
              "    }\n",
              "\n",
              "    .colab-df-convert:hover {\n",
              "      background-color: #E2EBFA;\n",
              "      box-shadow: 0px 1px 2px rgba(60, 64, 67, 0.3), 0px 1px 3px 1px rgba(60, 64, 67, 0.15);\n",
              "      fill: #174EA6;\n",
              "    }\n",
              "\n",
              "    [theme=dark] .colab-df-convert {\n",
              "      background-color: #3B4455;\n",
              "      fill: #D2E3FC;\n",
              "    }\n",
              "\n",
              "    [theme=dark] .colab-df-convert:hover {\n",
              "      background-color: #434B5C;\n",
              "      box-shadow: 0px 1px 3px 1px rgba(0, 0, 0, 0.15);\n",
              "      filter: drop-shadow(0px 1px 2px rgba(0, 0, 0, 0.3));\n",
              "      fill: #FFFFFF;\n",
              "    }\n",
              "  </style>\n",
              "\n",
              "      <script>\n",
              "        const buttonEl =\n",
              "          document.querySelector('#df-3497acf1-5886-4add-be1e-c4645b3618c3 button.colab-df-convert');\n",
              "        buttonEl.style.display =\n",
              "          google.colab.kernel.accessAllowed ? 'block' : 'none';\n",
              "\n",
              "        async function convertToInteractive(key) {\n",
              "          const element = document.querySelector('#df-3497acf1-5886-4add-be1e-c4645b3618c3');\n",
              "          const dataTable =\n",
              "            await google.colab.kernel.invokeFunction('convertToInteractive',\n",
              "                                                     [key], {});\n",
              "          if (!dataTable) return;\n",
              "\n",
              "          const docLinkHtml = 'Like what you see? Visit the ' +\n",
              "            '<a target=\"_blank\" href=https://colab.research.google.com/notebooks/data_table.ipynb>data table notebook</a>'\n",
              "            + ' to learn more about interactive tables.';\n",
              "          element.innerHTML = '';\n",
              "          dataTable['output_type'] = 'display_data';\n",
              "          await google.colab.output.renderOutput(dataTable, element);\n",
              "          const docLink = document.createElement('div');\n",
              "          docLink.innerHTML = docLinkHtml;\n",
              "          element.appendChild(docLink);\n",
              "        }\n",
              "      </script>\n",
              "    </div>\n",
              "  </div>\n",
              "  "
            ]
          },
          "metadata": {},
          "execution_count": 6
        }
      ]
    },
    {
      "cell_type": "code",
      "source": [
        "test.head(3)"
      ],
      "metadata": {
        "colab": {
          "base_uri": "https://localhost:8080/",
          "height": 308
        },
        "id": "IX99_1uayN7E",
        "outputId": "f2c6ae14-3153-49fb-d1b0-eea5dd8955f2"
      },
      "execution_count": 7,
      "outputs": [
        {
          "output_type": "execute_result",
          "data": {
            "text/plain": [
              "   Unnamed: 0                  id                               postMedia  \\\n",
              "0           0  858426904239497216  ['media/photo_858425825229549568.jpg']   \n",
              "1           1  858416350540201984  ['media/photo_858416342268911616.jpg']   \n",
              "2           2  858364015260704768                                      []   \n",
              "\n",
              "                                      targetCaptions  \\\n",
              "0  ['Cleveland Browns logo', 'Dec 6, 2015; Clevel...   \n",
              "1           ['Five', 'Guilfoyle', 'Coulter', 'Cain']   \n",
              "2                                                 []   \n",
              "\n",
              "                                            postText  \\\n",
              "0  Johnny Manziel on Browns' No. 1 pick Myles Gar...   \n",
              "1  Fabio: California Is a 'Mess' Because of Liber...   \n",
              "2            \"He's been huge for us this year, man.\"   \n",
              "\n",
              "                    postTimestamp  \\\n",
              "0  Sat Apr 29 21:04:57 +0000 2017   \n",
              "1  Sat Apr 29 20:23:01 +0000 2017   \n",
              "2  Sat Apr 29 16:55:03 +0000 2017   \n",
              "\n",
              "                                         targetTitle  \\\n",
              "0  Johnny Manziel Says Top Pick in Draft Myles Ga...   \n",
              "1  Fabio: California Is a 'Mess' Because of Liber...   \n",
              "2  Jimmy Butler wants to return, hopes Bulls keep...   \n",
              "\n",
              "                                   targetDescription  \\\n",
              "0  Johnny   Manziel   approves of the  Cleveland ...   \n",
              "1  Fabio, the Italian-born male model who has ado...   \n",
              "2  Bulls guard Jimmy Butler says he wants to rema...   \n",
              "\n",
              "                                      targetKeywords  \\\n",
              "0  NFL Draft, Football, NFL, AFC North, Cleveland...   \n",
              "1                                                NaN   \n",
              "2  guards, backcourt, option, contract, Chicago B...   \n",
              "\n",
              "                                    targetParagraphs  \\\n",
              "0  [\"Johnny Manziel approves of the Cleveland Bro...   \n",
              "1  ['Fabio, the Italian-born male model who has a...   \n",
              "2  [\"CHICAGO -- All-Star swingman Jimmy Butler kn...   \n",
              "\n",
              "                              truthJudgments    truthClass  truthMedian  \\\n",
              "0                  [0.0, 0.0, 0.0, 0.0, 0.0]  no-clickbait          0.0   \n",
              "1  [0.0, 0.0, 0.0, 0.33333333330000003, 0.0]  no-clickbait          0.0   \n",
              "2                  [1.0, 1.0, 1.0, 1.0, 1.0]     clickbait          1.0   \n",
              "\n",
              "   truthMode  truthMean  \n",
              "0        0.0   0.000000  \n",
              "1        0.0   0.066667  \n",
              "2        1.0   1.000000  "
            ],
            "text/html": [
              "\n",
              "  <div id=\"df-490c6f96-af12-4bac-bd8e-21fb2643f0db\">\n",
              "    <div class=\"colab-df-container\">\n",
              "      <div>\n",
              "<style scoped>\n",
              "    .dataframe tbody tr th:only-of-type {\n",
              "        vertical-align: middle;\n",
              "    }\n",
              "\n",
              "    .dataframe tbody tr th {\n",
              "        vertical-align: top;\n",
              "    }\n",
              "\n",
              "    .dataframe thead th {\n",
              "        text-align: right;\n",
              "    }\n",
              "</style>\n",
              "<table border=\"1\" class=\"dataframe\">\n",
              "  <thead>\n",
              "    <tr style=\"text-align: right;\">\n",
              "      <th></th>\n",
              "      <th>Unnamed: 0</th>\n",
              "      <th>id</th>\n",
              "      <th>postMedia</th>\n",
              "      <th>targetCaptions</th>\n",
              "      <th>postText</th>\n",
              "      <th>postTimestamp</th>\n",
              "      <th>targetTitle</th>\n",
              "      <th>targetDescription</th>\n",
              "      <th>targetKeywords</th>\n",
              "      <th>targetParagraphs</th>\n",
              "      <th>truthJudgments</th>\n",
              "      <th>truthClass</th>\n",
              "      <th>truthMedian</th>\n",
              "      <th>truthMode</th>\n",
              "      <th>truthMean</th>\n",
              "    </tr>\n",
              "  </thead>\n",
              "  <tbody>\n",
              "    <tr>\n",
              "      <th>0</th>\n",
              "      <td>0</td>\n",
              "      <td>858426904239497216</td>\n",
              "      <td>['media/photo_858425825229549568.jpg']</td>\n",
              "      <td>['Cleveland Browns logo', 'Dec 6, 2015; Clevel...</td>\n",
              "      <td>Johnny Manziel on Browns' No. 1 pick Myles Gar...</td>\n",
              "      <td>Sat Apr 29 21:04:57 +0000 2017</td>\n",
              "      <td>Johnny Manziel Says Top Pick in Draft Myles Ga...</td>\n",
              "      <td>Johnny   Manziel   approves of the  Cleveland ...</td>\n",
              "      <td>NFL Draft, Football, NFL, AFC North, Cleveland...</td>\n",
              "      <td>[\"Johnny Manziel approves of the Cleveland Bro...</td>\n",
              "      <td>[0.0, 0.0, 0.0, 0.0, 0.0]</td>\n",
              "      <td>no-clickbait</td>\n",
              "      <td>0.0</td>\n",
              "      <td>0.0</td>\n",
              "      <td>0.000000</td>\n",
              "    </tr>\n",
              "    <tr>\n",
              "      <th>1</th>\n",
              "      <td>1</td>\n",
              "      <td>858416350540201984</td>\n",
              "      <td>['media/photo_858416342268911616.jpg']</td>\n",
              "      <td>['Five', 'Guilfoyle', 'Coulter', 'Cain']</td>\n",
              "      <td>Fabio: California Is a 'Mess' Because of Liber...</td>\n",
              "      <td>Sat Apr 29 20:23:01 +0000 2017</td>\n",
              "      <td>Fabio: California Is a 'Mess' Because of Liber...</td>\n",
              "      <td>Fabio, the Italian-born male model who has ado...</td>\n",
              "      <td>NaN</td>\n",
              "      <td>['Fabio, the Italian-born male model who has a...</td>\n",
              "      <td>[0.0, 0.0, 0.0, 0.33333333330000003, 0.0]</td>\n",
              "      <td>no-clickbait</td>\n",
              "      <td>0.0</td>\n",
              "      <td>0.0</td>\n",
              "      <td>0.066667</td>\n",
              "    </tr>\n",
              "    <tr>\n",
              "      <th>2</th>\n",
              "      <td>2</td>\n",
              "      <td>858364015260704768</td>\n",
              "      <td>[]</td>\n",
              "      <td>[]</td>\n",
              "      <td>\"He's been huge for us this year, man.\"</td>\n",
              "      <td>Sat Apr 29 16:55:03 +0000 2017</td>\n",
              "      <td>Jimmy Butler wants to return, hopes Bulls keep...</td>\n",
              "      <td>Bulls guard Jimmy Butler says he wants to rema...</td>\n",
              "      <td>guards, backcourt, option, contract, Chicago B...</td>\n",
              "      <td>[\"CHICAGO -- All-Star swingman Jimmy Butler kn...</td>\n",
              "      <td>[1.0, 1.0, 1.0, 1.0, 1.0]</td>\n",
              "      <td>clickbait</td>\n",
              "      <td>1.0</td>\n",
              "      <td>1.0</td>\n",
              "      <td>1.000000</td>\n",
              "    </tr>\n",
              "  </tbody>\n",
              "</table>\n",
              "</div>\n",
              "      <button class=\"colab-df-convert\" onclick=\"convertToInteractive('df-490c6f96-af12-4bac-bd8e-21fb2643f0db')\"\n",
              "              title=\"Convert this dataframe to an interactive table.\"\n",
              "              style=\"display:none;\">\n",
              "        \n",
              "  <svg xmlns=\"http://www.w3.org/2000/svg\" height=\"24px\"viewBox=\"0 0 24 24\"\n",
              "       width=\"24px\">\n",
              "    <path d=\"M0 0h24v24H0V0z\" fill=\"none\"/>\n",
              "    <path d=\"M18.56 5.44l.94 2.06.94-2.06 2.06-.94-2.06-.94-.94-2.06-.94 2.06-2.06.94zm-11 1L8.5 8.5l.94-2.06 2.06-.94-2.06-.94L8.5 2.5l-.94 2.06-2.06.94zm10 10l.94 2.06.94-2.06 2.06-.94-2.06-.94-.94-2.06-.94 2.06-2.06.94z\"/><path d=\"M17.41 7.96l-1.37-1.37c-.4-.4-.92-.59-1.43-.59-.52 0-1.04.2-1.43.59L10.3 9.45l-7.72 7.72c-.78.78-.78 2.05 0 2.83L4 21.41c.39.39.9.59 1.41.59.51 0 1.02-.2 1.41-.59l7.78-7.78 2.81-2.81c.8-.78.8-2.07 0-2.86zM5.41 20L4 18.59l7.72-7.72 1.47 1.35L5.41 20z\"/>\n",
              "  </svg>\n",
              "      </button>\n",
              "      \n",
              "  <style>\n",
              "    .colab-df-container {\n",
              "      display:flex;\n",
              "      flex-wrap:wrap;\n",
              "      gap: 12px;\n",
              "    }\n",
              "\n",
              "    .colab-df-convert {\n",
              "      background-color: #E8F0FE;\n",
              "      border: none;\n",
              "      border-radius: 50%;\n",
              "      cursor: pointer;\n",
              "      display: none;\n",
              "      fill: #1967D2;\n",
              "      height: 32px;\n",
              "      padding: 0 0 0 0;\n",
              "      width: 32px;\n",
              "    }\n",
              "\n",
              "    .colab-df-convert:hover {\n",
              "      background-color: #E2EBFA;\n",
              "      box-shadow: 0px 1px 2px rgba(60, 64, 67, 0.3), 0px 1px 3px 1px rgba(60, 64, 67, 0.15);\n",
              "      fill: #174EA6;\n",
              "    }\n",
              "\n",
              "    [theme=dark] .colab-df-convert {\n",
              "      background-color: #3B4455;\n",
              "      fill: #D2E3FC;\n",
              "    }\n",
              "\n",
              "    [theme=dark] .colab-df-convert:hover {\n",
              "      background-color: #434B5C;\n",
              "      box-shadow: 0px 1px 3px 1px rgba(0, 0, 0, 0.15);\n",
              "      filter: drop-shadow(0px 1px 2px rgba(0, 0, 0, 0.3));\n",
              "      fill: #FFFFFF;\n",
              "    }\n",
              "  </style>\n",
              "\n",
              "      <script>\n",
              "        const buttonEl =\n",
              "          document.querySelector('#df-490c6f96-af12-4bac-bd8e-21fb2643f0db button.colab-df-convert');\n",
              "        buttonEl.style.display =\n",
              "          google.colab.kernel.accessAllowed ? 'block' : 'none';\n",
              "\n",
              "        async function convertToInteractive(key) {\n",
              "          const element = document.querySelector('#df-490c6f96-af12-4bac-bd8e-21fb2643f0db');\n",
              "          const dataTable =\n",
              "            await google.colab.kernel.invokeFunction('convertToInteractive',\n",
              "                                                     [key], {});\n",
              "          if (!dataTable) return;\n",
              "\n",
              "          const docLinkHtml = 'Like what you see? Visit the ' +\n",
              "            '<a target=\"_blank\" href=https://colab.research.google.com/notebooks/data_table.ipynb>data table notebook</a>'\n",
              "            + ' to learn more about interactive tables.';\n",
              "          element.innerHTML = '';\n",
              "          dataTable['output_type'] = 'display_data';\n",
              "          await google.colab.output.renderOutput(dataTable, element);\n",
              "          const docLink = document.createElement('div');\n",
              "          docLink.innerHTML = docLinkHtml;\n",
              "          element.appendChild(docLink);\n",
              "        }\n",
              "      </script>\n",
              "    </div>\n",
              "  </div>\n",
              "  "
            ]
          },
          "metadata": {},
          "execution_count": 7
        }
      ]
    },
    {
      "cell_type": "code",
      "source": [
        "# Formato de los datos\n",
        "print(type(train))\n",
        "print(type(test))"
      ],
      "metadata": {
        "colab": {
          "base_uri": "https://localhost:8080/"
        },
        "id": "FYAR-zzTxiKX",
        "outputId": "fc9519c9-f9aa-4a06-e8fd-51f134792337"
      },
      "execution_count": 8,
      "outputs": [
        {
          "output_type": "stream",
          "name": "stdout",
          "text": [
            "<class 'pandas.core.frame.DataFrame'>\n",
            "<class 'pandas.core.frame.DataFrame'>\n"
          ]
        }
      ]
    },
    {
      "cell_type": "code",
      "source": [
        "# Comprobamos cuantas filas y cuantas columnas contiene train\n",
        "print(\"El dataframe contiene un total de {} filas\".format(len(train)))\n",
        "print(\"El dataframe contiene un total de {} columnas\".format(train.shape[1]))\n",
        "# Las filas también podrían calcularse de la siguiente manera\n",
        "print(\"El dataframe contiene un total de {} filas\".format(train.shape[0]))"
      ],
      "metadata": {
        "colab": {
          "base_uri": "https://localhost:8080/"
        },
        "id": "qCCNroqBxvdz",
        "outputId": "08e5732a-02ee-4666-d2f1-b9bbf09eb26f"
      },
      "execution_count": 9,
      "outputs": [
        {
          "output_type": "stream",
          "name": "stdout",
          "text": [
            "El dataframe contiene un total de 19538 filas\n",
            "El dataframe contiene un total de 15 columnas\n",
            "El dataframe contiene un total de 19538 filas\n"
          ]
        }
      ]
    },
    {
      "cell_type": "code",
      "source": [
        "# Comprobamos cuantas filas y cuantas columnas contiene test\n",
        "print(\"El dataframe contiene un total de {} filas\".format(len(test)))\n",
        "print(\"El dataframe contiene un total de {} columnas\".format(test.shape[1]))\n",
        "# Las filas también podrían calcularse de la siguiente manera\n",
        "print(\"El dataframe contiene un total de {} filas\".format(test.shape[0]))"
      ],
      "metadata": {
        "colab": {
          "base_uri": "https://localhost:8080/"
        },
        "id": "dxMGx1wZx2no",
        "outputId": "8a25d2e1-4ea9-40c8-b9f5-e9581dfdf443"
      },
      "execution_count": 10,
      "outputs": [
        {
          "output_type": "stream",
          "name": "stdout",
          "text": [
            "El dataframe contiene un total de 18979 filas\n",
            "El dataframe contiene un total de 15 columnas\n",
            "El dataframe contiene un total de 18979 filas\n"
          ]
        }
      ]
    },
    {
      "cell_type": "code",
      "source": [
        "# Comprobamos si existen duplicados en train\n",
        "print(\"Existen {} documentos duplicadas\".format(np.sum(train.duplicated(subset=[\"postText\"]))))"
      ],
      "metadata": {
        "colab": {
          "base_uri": "https://localhost:8080/"
        },
        "id": "M1NGvFIPx97i",
        "outputId": "871644e4-e2c2-4260-b854-f38bd89c28c0"
      },
      "execution_count": 11,
      "outputs": [
        {
          "output_type": "stream",
          "name": "stdout",
          "text": [
            "Existen 456 documentos duplicadas\n"
          ]
        }
      ]
    },
    {
      "cell_type": "code",
      "source": [
        "# Quitaremos esos duplicados\n",
        "train = train.drop_duplicates(subset=[\"postText\"])\n",
        "print(\"Después de quitar duplicados tenemos un conjunto de {} post\".format(train.shape[0]))"
      ],
      "metadata": {
        "colab": {
          "base_uri": "https://localhost:8080/"
        },
        "id": "Jb16ogqMyeNj",
        "outputId": "cfd47b47-66b6-420c-d104-cecdeda65dbf"
      },
      "execution_count": 12,
      "outputs": [
        {
          "output_type": "stream",
          "name": "stdout",
          "text": [
            "Después de quitar duplicados tenemos un conjunto de 19082 post\n"
          ]
        }
      ]
    },
    {
      "cell_type": "code",
      "source": [
        "# Comprobamos si existen duplicados en test\n",
        "print(\"Existen {} documentos duplicadas\".format(np.sum(test.duplicated(subset=[\"postText\"]))))"
      ],
      "metadata": {
        "colab": {
          "base_uri": "https://localhost:8080/"
        },
        "id": "4x1CH3PbyZjG",
        "outputId": "84048048-bd53-413a-aa66-6ad9b8116b13"
      },
      "execution_count": 13,
      "outputs": [
        {
          "output_type": "stream",
          "name": "stdout",
          "text": [
            "Existen 445 documentos duplicadas\n"
          ]
        }
      ]
    },
    {
      "cell_type": "code",
      "source": [
        "# Quitaremos esos duplicados\n",
        "test = test.drop_duplicates(subset=[\"postText\"])\n",
        "print(\"Después de quitar duplicados tenemos un conjunto de {} post\".format(test.shape[0]))"
      ],
      "metadata": {
        "colab": {
          "base_uri": "https://localhost:8080/"
        },
        "id": "jVS7wf3eytQc",
        "outputId": "8ca07807-eb51-4a83-9b30-691d5ac2f964"
      },
      "execution_count": 14,
      "outputs": [
        {
          "output_type": "stream",
          "name": "stdout",
          "text": [
            "Después de quitar duplicados tenemos un conjunto de 18534 post\n"
          ]
        }
      ]
    },
    {
      "cell_type": "code",
      "source": [
        "train.columns.values"
      ],
      "metadata": {
        "colab": {
          "base_uri": "https://localhost:8080/"
        },
        "id": "nPentKij1JPS",
        "outputId": "bd9adcf8-325c-4eb0-838d-7288a82f6283"
      },
      "execution_count": 15,
      "outputs": [
        {
          "output_type": "execute_result",
          "data": {
            "text/plain": [
              "array(['Unnamed: 0', 'postMedia', 'postText', 'id', 'targetCaptions',\n",
              "       'targetParagraphs', 'targetTitle', 'postTimestamp',\n",
              "       'targetKeywords', 'targetDescription', 'truthJudgments',\n",
              "       'truthMean', 'truthClass', 'truthMedian', 'truthMode'],\n",
              "      dtype=object)"
            ]
          },
          "metadata": {},
          "execution_count": 15
        }
      ]
    },
    {
      "cell_type": "code",
      "source": [
        "train = train.drop(['Unnamed: 0', 'postMedia', 'id', 'targetCaptions',\n",
        "                    'targetParagraphs', 'targetTitle', 'postTimestamp',\n",
        "                    'targetKeywords', 'targetDescription', 'truthJudgments',\n",
        "                    'truthMean', 'truthMedian', 'truthMode'], axis=1)"
      ],
      "metadata": {
        "id": "qNKxD4iT06ky"
      },
      "execution_count": 16,
      "outputs": []
    },
    {
      "cell_type": "code",
      "source": [
        "train.head(3)"
      ],
      "metadata": {
        "colab": {
          "base_uri": "https://localhost:8080/",
          "height": 143
        },
        "id": "02_PuRNz11mA",
        "outputId": "c6452577-ea4a-46b5-e199-e5fad5d26c31"
      },
      "execution_count": 17,
      "outputs": [
        {
          "output_type": "execute_result",
          "data": {
            "text/plain": [
              "                                            postText    truthClass\n",
              "0  UK’s response to modern slavery leaving victim...  no-clickbait\n",
              "1                                       this is good     clickbait\n",
              "2  The \"forgotten\" Trump roast: Relive his brutal...  no-clickbait"
            ],
            "text/html": [
              "\n",
              "  <div id=\"df-28481b9e-ef59-46b3-bdb5-738517e20fee\">\n",
              "    <div class=\"colab-df-container\">\n",
              "      <div>\n",
              "<style scoped>\n",
              "    .dataframe tbody tr th:only-of-type {\n",
              "        vertical-align: middle;\n",
              "    }\n",
              "\n",
              "    .dataframe tbody tr th {\n",
              "        vertical-align: top;\n",
              "    }\n",
              "\n",
              "    .dataframe thead th {\n",
              "        text-align: right;\n",
              "    }\n",
              "</style>\n",
              "<table border=\"1\" class=\"dataframe\">\n",
              "  <thead>\n",
              "    <tr style=\"text-align: right;\">\n",
              "      <th></th>\n",
              "      <th>postText</th>\n",
              "      <th>truthClass</th>\n",
              "    </tr>\n",
              "  </thead>\n",
              "  <tbody>\n",
              "    <tr>\n",
              "      <th>0</th>\n",
              "      <td>UK’s response to modern slavery leaving victim...</td>\n",
              "      <td>no-clickbait</td>\n",
              "    </tr>\n",
              "    <tr>\n",
              "      <th>1</th>\n",
              "      <td>this is good</td>\n",
              "      <td>clickbait</td>\n",
              "    </tr>\n",
              "    <tr>\n",
              "      <th>2</th>\n",
              "      <td>The \"forgotten\" Trump roast: Relive his brutal...</td>\n",
              "      <td>no-clickbait</td>\n",
              "    </tr>\n",
              "  </tbody>\n",
              "</table>\n",
              "</div>\n",
              "      <button class=\"colab-df-convert\" onclick=\"convertToInteractive('df-28481b9e-ef59-46b3-bdb5-738517e20fee')\"\n",
              "              title=\"Convert this dataframe to an interactive table.\"\n",
              "              style=\"display:none;\">\n",
              "        \n",
              "  <svg xmlns=\"http://www.w3.org/2000/svg\" height=\"24px\"viewBox=\"0 0 24 24\"\n",
              "       width=\"24px\">\n",
              "    <path d=\"M0 0h24v24H0V0z\" fill=\"none\"/>\n",
              "    <path d=\"M18.56 5.44l.94 2.06.94-2.06 2.06-.94-2.06-.94-.94-2.06-.94 2.06-2.06.94zm-11 1L8.5 8.5l.94-2.06 2.06-.94-2.06-.94L8.5 2.5l-.94 2.06-2.06.94zm10 10l.94 2.06.94-2.06 2.06-.94-2.06-.94-.94-2.06-.94 2.06-2.06.94z\"/><path d=\"M17.41 7.96l-1.37-1.37c-.4-.4-.92-.59-1.43-.59-.52 0-1.04.2-1.43.59L10.3 9.45l-7.72 7.72c-.78.78-.78 2.05 0 2.83L4 21.41c.39.39.9.59 1.41.59.51 0 1.02-.2 1.41-.59l7.78-7.78 2.81-2.81c.8-.78.8-2.07 0-2.86zM5.41 20L4 18.59l7.72-7.72 1.47 1.35L5.41 20z\"/>\n",
              "  </svg>\n",
              "      </button>\n",
              "      \n",
              "  <style>\n",
              "    .colab-df-container {\n",
              "      display:flex;\n",
              "      flex-wrap:wrap;\n",
              "      gap: 12px;\n",
              "    }\n",
              "\n",
              "    .colab-df-convert {\n",
              "      background-color: #E8F0FE;\n",
              "      border: none;\n",
              "      border-radius: 50%;\n",
              "      cursor: pointer;\n",
              "      display: none;\n",
              "      fill: #1967D2;\n",
              "      height: 32px;\n",
              "      padding: 0 0 0 0;\n",
              "      width: 32px;\n",
              "    }\n",
              "\n",
              "    .colab-df-convert:hover {\n",
              "      background-color: #E2EBFA;\n",
              "      box-shadow: 0px 1px 2px rgba(60, 64, 67, 0.3), 0px 1px 3px 1px rgba(60, 64, 67, 0.15);\n",
              "      fill: #174EA6;\n",
              "    }\n",
              "\n",
              "    [theme=dark] .colab-df-convert {\n",
              "      background-color: #3B4455;\n",
              "      fill: #D2E3FC;\n",
              "    }\n",
              "\n",
              "    [theme=dark] .colab-df-convert:hover {\n",
              "      background-color: #434B5C;\n",
              "      box-shadow: 0px 1px 3px 1px rgba(0, 0, 0, 0.15);\n",
              "      filter: drop-shadow(0px 1px 2px rgba(0, 0, 0, 0.3));\n",
              "      fill: #FFFFFF;\n",
              "    }\n",
              "  </style>\n",
              "\n",
              "      <script>\n",
              "        const buttonEl =\n",
              "          document.querySelector('#df-28481b9e-ef59-46b3-bdb5-738517e20fee button.colab-df-convert');\n",
              "        buttonEl.style.display =\n",
              "          google.colab.kernel.accessAllowed ? 'block' : 'none';\n",
              "\n",
              "        async function convertToInteractive(key) {\n",
              "          const element = document.querySelector('#df-28481b9e-ef59-46b3-bdb5-738517e20fee');\n",
              "          const dataTable =\n",
              "            await google.colab.kernel.invokeFunction('convertToInteractive',\n",
              "                                                     [key], {});\n",
              "          if (!dataTable) return;\n",
              "\n",
              "          const docLinkHtml = 'Like what you see? Visit the ' +\n",
              "            '<a target=\"_blank\" href=https://colab.research.google.com/notebooks/data_table.ipynb>data table notebook</a>'\n",
              "            + ' to learn more about interactive tables.';\n",
              "          element.innerHTML = '';\n",
              "          dataTable['output_type'] = 'display_data';\n",
              "          await google.colab.output.renderOutput(dataTable, element);\n",
              "          const docLink = document.createElement('div');\n",
              "          docLink.innerHTML = docLinkHtml;\n",
              "          element.appendChild(docLink);\n",
              "        }\n",
              "      </script>\n",
              "    </div>\n",
              "  </div>\n",
              "  "
            ]
          },
          "metadata": {},
          "execution_count": 17
        }
      ]
    },
    {
      "cell_type": "code",
      "source": [
        "# Comprobamos si existen valores vacios en train \n",
        "print(\"Hay {} valores vacíos en postText y {} valores vacíos en las etiquetas en los datos\".format(np.sum(train.isnull())[0],\n",
        "                                                                                                   np.sum(train.isnull())[1]))"
      ],
      "metadata": {
        "colab": {
          "base_uri": "https://localhost:8080/"
        },
        "id": "ptj2oH0BzVU8",
        "outputId": "dc0e98c5-00f2-4179-bab0-0b8d5cedfd8f"
      },
      "execution_count": 18,
      "outputs": [
        {
          "output_type": "stream",
          "name": "stdout",
          "text": [
            "Hay 1 valores vacíos en postText y 0 valores vacíos en las etiquetas en los datos\n"
          ]
        }
      ]
    },
    {
      "cell_type": "code",
      "source": [
        "train = train.dropna()"
      ],
      "metadata": {
        "id": "V2Of6ug-2qer"
      },
      "execution_count": 19,
      "outputs": []
    },
    {
      "cell_type": "code",
      "source": [
        "# Comprobamos  que se han eliminado\n",
        "print(\"Hay {} valores vacíos en postText y {} valores vacíos en las etiquetas en los datos\".format(np.sum(train.isnull())[0],\n",
        "                                                                                                   np.sum(train.isnull())[1]))"
      ],
      "metadata": {
        "colab": {
          "base_uri": "https://localhost:8080/"
        },
        "id": "rMIWu__j2vxt",
        "outputId": "b7881c95-1160-4b61-c4e1-2493e90908ba"
      },
      "execution_count": 20,
      "outputs": [
        {
          "output_type": "stream",
          "name": "stdout",
          "text": [
            "Hay 0 valores vacíos en postText y 0 valores vacíos en las etiquetas en los datos\n"
          ]
        }
      ]
    },
    {
      "cell_type": "code",
      "source": [
        "test.columns.values"
      ],
      "metadata": {
        "colab": {
          "base_uri": "https://localhost:8080/"
        },
        "id": "SAzuDclJ1nUk",
        "outputId": "7f34e2ae-e432-4a0f-b2c0-7faeb92e2e86"
      },
      "execution_count": 21,
      "outputs": [
        {
          "output_type": "execute_result",
          "data": {
            "text/plain": [
              "array(['Unnamed: 0', 'id', 'postMedia', 'targetCaptions', 'postText',\n",
              "       'postTimestamp', 'targetTitle', 'targetDescription',\n",
              "       'targetKeywords', 'targetParagraphs', 'truthJudgments',\n",
              "       'truthClass', 'truthMedian', 'truthMode', 'truthMean'],\n",
              "      dtype=object)"
            ]
          },
          "metadata": {},
          "execution_count": 21
        }
      ]
    },
    {
      "cell_type": "code",
      "source": [
        "test = test.drop(['Unnamed: 0', 'id', 'postMedia', 'targetCaptions',\n",
        "                    'postTimestamp', 'targetTitle', 'targetDescription',\n",
        "                    'targetKeywords', 'targetParagraphs', 'truthJudgments',\n",
        "                    'truthMedian', 'truthMode', 'truthMean'], axis=1)"
      ],
      "metadata": {
        "id": "agoLMMY21qop"
      },
      "execution_count": 22,
      "outputs": []
    },
    {
      "cell_type": "code",
      "source": [
        "test.head(3)"
      ],
      "metadata": {
        "colab": {
          "base_uri": "https://localhost:8080/",
          "height": 143
        },
        "id": "pejly8sq15b0",
        "outputId": "62541202-458c-4771-f078-38c64ac78c56"
      },
      "execution_count": 23,
      "outputs": [
        {
          "output_type": "execute_result",
          "data": {
            "text/plain": [
              "                                            postText    truthClass\n",
              "0  Johnny Manziel on Browns' No. 1 pick Myles Gar...  no-clickbait\n",
              "1  Fabio: California Is a 'Mess' Because of Liber...  no-clickbait\n",
              "2            \"He's been huge for us this year, man.\"     clickbait"
            ],
            "text/html": [
              "\n",
              "  <div id=\"df-314af3a7-081e-4c86-93ee-d225809443b0\">\n",
              "    <div class=\"colab-df-container\">\n",
              "      <div>\n",
              "<style scoped>\n",
              "    .dataframe tbody tr th:only-of-type {\n",
              "        vertical-align: middle;\n",
              "    }\n",
              "\n",
              "    .dataframe tbody tr th {\n",
              "        vertical-align: top;\n",
              "    }\n",
              "\n",
              "    .dataframe thead th {\n",
              "        text-align: right;\n",
              "    }\n",
              "</style>\n",
              "<table border=\"1\" class=\"dataframe\">\n",
              "  <thead>\n",
              "    <tr style=\"text-align: right;\">\n",
              "      <th></th>\n",
              "      <th>postText</th>\n",
              "      <th>truthClass</th>\n",
              "    </tr>\n",
              "  </thead>\n",
              "  <tbody>\n",
              "    <tr>\n",
              "      <th>0</th>\n",
              "      <td>Johnny Manziel on Browns' No. 1 pick Myles Gar...</td>\n",
              "      <td>no-clickbait</td>\n",
              "    </tr>\n",
              "    <tr>\n",
              "      <th>1</th>\n",
              "      <td>Fabio: California Is a 'Mess' Because of Liber...</td>\n",
              "      <td>no-clickbait</td>\n",
              "    </tr>\n",
              "    <tr>\n",
              "      <th>2</th>\n",
              "      <td>\"He's been huge for us this year, man.\"</td>\n",
              "      <td>clickbait</td>\n",
              "    </tr>\n",
              "  </tbody>\n",
              "</table>\n",
              "</div>\n",
              "      <button class=\"colab-df-convert\" onclick=\"convertToInteractive('df-314af3a7-081e-4c86-93ee-d225809443b0')\"\n",
              "              title=\"Convert this dataframe to an interactive table.\"\n",
              "              style=\"display:none;\">\n",
              "        \n",
              "  <svg xmlns=\"http://www.w3.org/2000/svg\" height=\"24px\"viewBox=\"0 0 24 24\"\n",
              "       width=\"24px\">\n",
              "    <path d=\"M0 0h24v24H0V0z\" fill=\"none\"/>\n",
              "    <path d=\"M18.56 5.44l.94 2.06.94-2.06 2.06-.94-2.06-.94-.94-2.06-.94 2.06-2.06.94zm-11 1L8.5 8.5l.94-2.06 2.06-.94-2.06-.94L8.5 2.5l-.94 2.06-2.06.94zm10 10l.94 2.06.94-2.06 2.06-.94-2.06-.94-.94-2.06-.94 2.06-2.06.94z\"/><path d=\"M17.41 7.96l-1.37-1.37c-.4-.4-.92-.59-1.43-.59-.52 0-1.04.2-1.43.59L10.3 9.45l-7.72 7.72c-.78.78-.78 2.05 0 2.83L4 21.41c.39.39.9.59 1.41.59.51 0 1.02-.2 1.41-.59l7.78-7.78 2.81-2.81c.8-.78.8-2.07 0-2.86zM5.41 20L4 18.59l7.72-7.72 1.47 1.35L5.41 20z\"/>\n",
              "  </svg>\n",
              "      </button>\n",
              "      \n",
              "  <style>\n",
              "    .colab-df-container {\n",
              "      display:flex;\n",
              "      flex-wrap:wrap;\n",
              "      gap: 12px;\n",
              "    }\n",
              "\n",
              "    .colab-df-convert {\n",
              "      background-color: #E8F0FE;\n",
              "      border: none;\n",
              "      border-radius: 50%;\n",
              "      cursor: pointer;\n",
              "      display: none;\n",
              "      fill: #1967D2;\n",
              "      height: 32px;\n",
              "      padding: 0 0 0 0;\n",
              "      width: 32px;\n",
              "    }\n",
              "\n",
              "    .colab-df-convert:hover {\n",
              "      background-color: #E2EBFA;\n",
              "      box-shadow: 0px 1px 2px rgba(60, 64, 67, 0.3), 0px 1px 3px 1px rgba(60, 64, 67, 0.15);\n",
              "      fill: #174EA6;\n",
              "    }\n",
              "\n",
              "    [theme=dark] .colab-df-convert {\n",
              "      background-color: #3B4455;\n",
              "      fill: #D2E3FC;\n",
              "    }\n",
              "\n",
              "    [theme=dark] .colab-df-convert:hover {\n",
              "      background-color: #434B5C;\n",
              "      box-shadow: 0px 1px 3px 1px rgba(0, 0, 0, 0.15);\n",
              "      filter: drop-shadow(0px 1px 2px rgba(0, 0, 0, 0.3));\n",
              "      fill: #FFFFFF;\n",
              "    }\n",
              "  </style>\n",
              "\n",
              "      <script>\n",
              "        const buttonEl =\n",
              "          document.querySelector('#df-314af3a7-081e-4c86-93ee-d225809443b0 button.colab-df-convert');\n",
              "        buttonEl.style.display =\n",
              "          google.colab.kernel.accessAllowed ? 'block' : 'none';\n",
              "\n",
              "        async function convertToInteractive(key) {\n",
              "          const element = document.querySelector('#df-314af3a7-081e-4c86-93ee-d225809443b0');\n",
              "          const dataTable =\n",
              "            await google.colab.kernel.invokeFunction('convertToInteractive',\n",
              "                                                     [key], {});\n",
              "          if (!dataTable) return;\n",
              "\n",
              "          const docLinkHtml = 'Like what you see? Visit the ' +\n",
              "            '<a target=\"_blank\" href=https://colab.research.google.com/notebooks/data_table.ipynb>data table notebook</a>'\n",
              "            + ' to learn more about interactive tables.';\n",
              "          element.innerHTML = '';\n",
              "          dataTable['output_type'] = 'display_data';\n",
              "          await google.colab.output.renderOutput(dataTable, element);\n",
              "          const docLink = document.createElement('div');\n",
              "          docLink.innerHTML = docLinkHtml;\n",
              "          element.appendChild(docLink);\n",
              "        }\n",
              "      </script>\n",
              "    </div>\n",
              "  </div>\n",
              "  "
            ]
          },
          "metadata": {},
          "execution_count": 23
        }
      ]
    },
    {
      "cell_type": "code",
      "source": [
        "# Comprobamos si existen valores vacios en test \n",
        "print(\"Hay {} valores vacíos en postText y {} valores vacíos en las etiquetas en los datos\".format(np.sum(test.isnull())[0],\n",
        "                                                                                                   np.sum(test.isnull())[1]))"
      ],
      "metadata": {
        "colab": {
          "base_uri": "https://localhost:8080/"
        },
        "id": "C8XqwbRO2W7u",
        "outputId": "7c336508-4b7e-4c00-86b6-fab02af3161c"
      },
      "execution_count": 24,
      "outputs": [
        {
          "output_type": "stream",
          "name": "stdout",
          "text": [
            "Hay 1 valores vacíos en postText y 0 valores vacíos en las etiquetas en los datos\n"
          ]
        }
      ]
    },
    {
      "cell_type": "code",
      "source": [
        "test = test.dropna()"
      ],
      "metadata": {
        "id": "FXmffcns2zhM"
      },
      "execution_count": 25,
      "outputs": []
    },
    {
      "cell_type": "code",
      "source": [
        "# Comprobamos  que se han eliminado\n",
        "print(\"Hay {} valores vacíos en postText y {} valores vacíos en las etiquetas en los datos\".format(np.sum(test.isnull())[0],\n",
        "                                                                                                   np.sum(test.isnull())[1]))"
      ],
      "metadata": {
        "colab": {
          "base_uri": "https://localhost:8080/"
        },
        "id": "nvVAMTiz2zkj",
        "outputId": "7eaf057e-f064-4add-f19a-d4e5859ef821"
      },
      "execution_count": 26,
      "outputs": [
        {
          "output_type": "stream",
          "name": "stdout",
          "text": [
            "Hay 0 valores vacíos en postText y 0 valores vacíos en las etiquetas en los datos\n"
          ]
        }
      ]
    },
    {
      "cell_type": "code",
      "source": [
        "# Comprobamos cuantas etiquetas hay de cada clase, para ver si está balanceado o no\n",
        "pd.value_counts(train['truthClass'])"
      ],
      "metadata": {
        "colab": {
          "base_uri": "https://localhost:8080/"
        },
        "id": "KjVn4igH29Ku",
        "outputId": "86e3a566-6168-44f6-a358-f90665ce8b6b"
      },
      "execution_count": 27,
      "outputs": [
        {
          "output_type": "execute_result",
          "data": {
            "text/plain": [
              "no-clickbait    14544\n",
              "clickbait        4537\n",
              "Name: truthClass, dtype: int64"
            ]
          },
          "metadata": {},
          "execution_count": 27
        }
      ]
    },
    {
      "cell_type": "markdown",
      "source": [
        "Vemos que no está balanceado, esto implica que podrá darnos problemas de entrenamiento, pero esto sucede en la mayoría de casos. \n",
        "A continuación se muestra un gráfico de dicho desvalanceo."
      ],
      "metadata": {
        "id": "5Lnk-x573e9N"
      }
    },
    {
      "cell_type": "code",
      "source": [
        "import matplotlib.pyplot as plt\n",
        "ax, fig = plt.subplots()\n",
        "etiquetas = pd.value_counts(train['truthClass']) # Número de etiquetas de cada clase\n",
        "etiquetas.plot(kind= 'bar', color= [\"pink\", \"turquoise\"]) # bar es que es tipo histograma\n",
        "plt.title('Gráfico de barras etiquetas Reviews')\n",
        "plt.show()"
      ],
      "metadata": {
        "colab": {
          "base_uri": "https://localhost:8080/",
          "height": 328
        },
        "id": "mnXKyT563v_z",
        "outputId": "e131f078-3497-45ab-a0c8-a1fbba8af3e1"
      },
      "execution_count": 28,
      "outputs": [
        {
          "output_type": "display_data",
          "data": {
            "text/plain": [
              "<Figure size 432x288 with 1 Axes>"
            ],
            "image/png": "[encoded data removed]"
          },
          "metadata": {
            "needs_background": "light"
          }
        }
      ]
    },
    {
      "cell_type": "code",
      "source": [
        "train['truthClass'].unique()"
      ],
      "metadata": {
        "colab": {
          "base_uri": "https://localhost:8080/"
        },
        "id": "aROnYhC3keXJ",
        "outputId": "73af91b3-2d40-4076-86ea-c566a90819b1"
      },
      "execution_count": 29,
      "outputs": [
        {
          "output_type": "execute_result",
          "data": {
            "text/plain": [
              "array(['no-clickbait', 'clickbait'], dtype=object)"
            ]
          },
          "metadata": {},
          "execution_count": 29
        }
      ]
    },
    {
      "cell_type": "code",
      "source": [
        "# Cambio las etiquetas de los datos, donde antes era no-clickbait ahora será 0 y clickbait será 1.\n",
        "train['truthClass'] = train['truthClass'].map({'no-clickbait':0, 'clickbait':1}, na_action=None)\n",
        "test['truthClass'] = test['truthClass'].map({'no-clickbait':0, 'clickbait':1}, na_action=None)"
      ],
      "metadata": {
        "id": "1gi0Mc_y4V7V"
      },
      "execution_count": 30,
      "outputs": []
    },
    {
      "cell_type": "code",
      "source": [
        "train.head(3)"
      ],
      "metadata": {
        "colab": {
          "base_uri": "https://localhost:8080/",
          "height": 143
        },
        "id": "KrqZBka84pLP",
        "outputId": "85049eb8-2fc1-474f-8d38-d4c08a175b77"
      },
      "execution_count": 31,
      "outputs": [
        {
          "output_type": "execute_result",
          "data": {
            "text/plain": [
              "                                            postText  truthClass\n",
              "0  UK’s response to modern slavery leaving victim...           0\n",
              "1                                       this is good           1\n",
              "2  The \"forgotten\" Trump roast: Relive his brutal...           0"
            ],
            "text/html": [
              "\n",
              "  <div id=\"df-1366bc11-51d8-4764-b47e-d03f69059b5e\">\n",
              "    <div class=\"colab-df-container\">\n",
              "      <div>\n",
              "<style scoped>\n",
              "    .dataframe tbody tr th:only-of-type {\n",
              "        vertical-align: middle;\n",
              "    }\n",
              "\n",
              "    .dataframe tbody tr th {\n",
              "        vertical-align: top;\n",
              "    }\n",
              "\n",
              "    .dataframe thead th {\n",
              "        text-align: right;\n",
              "    }\n",
              "</style>\n",
              "<table border=\"1\" class=\"dataframe\">\n",
              "  <thead>\n",
              "    <tr style=\"text-align: right;\">\n",
              "      <th></th>\n",
              "      <th>postText</th>\n",
              "      <th>truthClass</th>\n",
              "    </tr>\n",
              "  </thead>\n",
              "  <tbody>\n",
              "    <tr>\n",
              "      <th>0</th>\n",
              "      <td>UK’s response to modern slavery leaving victim...</td>\n",
              "      <td>0</td>\n",
              "    </tr>\n",
              "    <tr>\n",
              "      <th>1</th>\n",
              "      <td>this is good</td>\n",
              "      <td>1</td>\n",
              "    </tr>\n",
              "    <tr>\n",
              "      <th>2</th>\n",
              "      <td>The \"forgotten\" Trump roast: Relive his brutal...</td>\n",
              "      <td>0</td>\n",
              "    </tr>\n",
              "  </tbody>\n",
              "</table>\n",
              "</div>\n",
              "      <button class=\"colab-df-convert\" onclick=\"convertToInteractive('df-1366bc11-51d8-4764-b47e-d03f69059b5e')\"\n",
              "              title=\"Convert this dataframe to an interactive table.\"\n",
              "              style=\"display:none;\">\n",
              "        \n",
              "  <svg xmlns=\"http://www.w3.org/2000/svg\" height=\"24px\"viewBox=\"0 0 24 24\"\n",
              "       width=\"24px\">\n",
              "    <path d=\"M0 0h24v24H0V0z\" fill=\"none\"/>\n",
              "    <path d=\"M18.56 5.44l.94 2.06.94-2.06 2.06-.94-2.06-.94-.94-2.06-.94 2.06-2.06.94zm-11 1L8.5 8.5l.94-2.06 2.06-.94-2.06-.94L8.5 2.5l-.94 2.06-2.06.94zm10 10l.94 2.06.94-2.06 2.06-.94-2.06-.94-.94-2.06-.94 2.06-2.06.94z\"/><path d=\"M17.41 7.96l-1.37-1.37c-.4-.4-.92-.59-1.43-.59-.52 0-1.04.2-1.43.59L10.3 9.45l-7.72 7.72c-.78.78-.78 2.05 0 2.83L4 21.41c.39.39.9.59 1.41.59.51 0 1.02-.2 1.41-.59l7.78-7.78 2.81-2.81c.8-.78.8-2.07 0-2.86zM5.41 20L4 18.59l7.72-7.72 1.47 1.35L5.41 20z\"/>\n",
              "  </svg>\n",
              "      </button>\n",
              "      \n",
              "  <style>\n",
              "    .colab-df-container {\n",
              "      display:flex;\n",
              "      flex-wrap:wrap;\n",
              "      gap: 12px;\n",
              "    }\n",
              "\n",
              "    .colab-df-convert {\n",
              "      background-color: #E8F0FE;\n",
              "      border: none;\n",
              "      border-radius: 50%;\n",
              "      cursor: pointer;\n",
              "      display: none;\n",
              "      fill: #1967D2;\n",
              "      height: 32px;\n",
              "      padding: 0 0 0 0;\n",
              "      width: 32px;\n",
              "    }\n",
              "\n",
              "    .colab-df-convert:hover {\n",
              "      background-color: #E2EBFA;\n",
              "      box-shadow: 0px 1px 2px rgba(60, 64, 67, 0.3), 0px 1px 3px 1px rgba(60, 64, 67, 0.15);\n",
              "      fill: #174EA6;\n",
              "    }\n",
              "\n",
              "    [theme=dark] .colab-df-convert {\n",
              "      background-color: #3B4455;\n",
              "      fill: #D2E3FC;\n",
              "    }\n",
              "\n",
              "    [theme=dark] .colab-df-convert:hover {\n",
              "      background-color: #434B5C;\n",
              "      box-shadow: 0px 1px 3px 1px rgba(0, 0, 0, 0.15);\n",
              "      filter: drop-shadow(0px 1px 2px rgba(0, 0, 0, 0.3));\n",
              "      fill: #FFFFFF;\n",
              "    }\n",
              "  </style>\n",
              "\n",
              "      <script>\n",
              "        const buttonEl =\n",
              "          document.querySelector('#df-1366bc11-51d8-4764-b47e-d03f69059b5e button.colab-df-convert');\n",
              "        buttonEl.style.display =\n",
              "          google.colab.kernel.accessAllowed ? 'block' : 'none';\n",
              "\n",
              "        async function convertToInteractive(key) {\n",
              "          const element = document.querySelector('#df-1366bc11-51d8-4764-b47e-d03f69059b5e');\n",
              "          const dataTable =\n",
              "            await google.colab.kernel.invokeFunction('convertToInteractive',\n",
              "                                                     [key], {});\n",
              "          if (!dataTable) return;\n",
              "\n",
              "          const docLinkHtml = 'Like what you see? Visit the ' +\n",
              "            '<a target=\"_blank\" href=https://colab.research.google.com/notebooks/data_table.ipynb>data table notebook</a>'\n",
              "            + ' to learn more about interactive tables.';\n",
              "          element.innerHTML = '';\n",
              "          dataTable['output_type'] = 'display_data';\n",
              "          await google.colab.output.renderOutput(dataTable, element);\n",
              "          const docLink = document.createElement('div');\n",
              "          docLink.innerHTML = docLinkHtml;\n",
              "          element.appendChild(docLink);\n",
              "        }\n",
              "      </script>\n",
              "    </div>\n",
              "  </div>\n",
              "  "
            ]
          },
          "metadata": {},
          "execution_count": 31
        }
      ]
    },
    {
      "cell_type": "code",
      "source": [
        "# Creo una lista con las etiquetas\n",
        "target_names = ['no-clickbait', 'clickbait']"
      ],
      "metadata": {
        "id": "BReITydU4unX"
      },
      "execution_count": 32,
      "outputs": []
    },
    {
      "cell_type": "code",
      "source": [
        "# Hago varias transformaciones para obtener el formato que necesito\n",
        "train_texts = train['postText'].to_list()\n",
        "valid_texts = test['postText'].to_list()\n",
        "train_labels = train['truthClass'].to_list()\n",
        "valid_labels = test['truthClass'].to_list()"
      ],
      "metadata": {
        "id": "yt2PZ9fM4zio"
      },
      "execution_count": 33,
      "outputs": []
    },
    {
      "cell_type": "code",
      "source": [
        "train_labels = np.array(train_labels,)\n",
        "valid_labels = np.array(valid_labels,)"
      ],
      "metadata": {
        "id": "ML8smDZX4zlG"
      },
      "execution_count": 34,
      "outputs": []
    },
    {
      "cell_type": "markdown",
      "source": [
        "En primer lugar el modelo que vamos a usar es el \"bert-base-uncased\", el cual es un modelo preentrenado en inglés."
      ],
      "metadata": {
        "id": "S_inVUXuttry"
      }
    },
    {
      "cell_type": "code",
      "source": [
        "model_name1 = \"bert-base-uncased\""
      ],
      "metadata": {
        "id": "g0VrCdUFeF0G"
      },
      "execution_count": 35,
      "outputs": []
    },
    {
      "cell_type": "markdown",
      "source": [
        "Primero dividiremos nuestras oraciones en tokens, es decir, en unidades de texto mínimas, todas las palabras así como determinantes, preposiciones, iconos si los hubiese, etcetera."
      ],
      "metadata": {
        "id": "sVvAfoS5u8Zp"
      }
    },
    {
      "cell_type": "code",
      "source": [
        "# Usamos un tokenizador para poder dividir las secuencias en tokens\n",
        "tokenizer = BertTokenizerFast.from_pretrained(model_name1, do_lower_case=True)\n",
        "# do_lower_case = True para escribir en minúsculas todo el texto "
      ],
      "metadata": {
        "id": "7IvpNBkLkeRe"
      },
      "execution_count": 36,
      "outputs": []
    },
    {
      "cell_type": "code",
      "source": [
        "# Ahora usamos el tokenizador para nuestro corpus.\n",
        "train_encodings = tokenizer(train_texts, padding=True)\n",
        "valid_encodings = tokenizer(valid_texts, padding=True)\n",
        "# Puesto que no he usado max_length tomará aquel texto que tenga longitud maxima\n",
        "# por ello padding = True para que rellene con fichas vacías aquellos que son menores que diche longitud"
      ],
      "metadata": {
        "id": "GUtB7WtU4znd"
      },
      "execution_count": 37,
      "outputs": []
    },
    {
      "cell_type": "code",
      "source": [
        "class NewsGroupsDataset(torch.utils.data.Dataset):\n",
        "    def __init__(self, encodings, labels):\n",
        "        self.encodings = encodings\n",
        "        self.labels = labels\n",
        "\n",
        "    def __getitem__(self, idx):\n",
        "        item = {k: torch.tensor(v[idx]) for k, v in self.encodings.items()}\n",
        "        item[\"labels\"] = torch.tensor([self.labels[idx]])\n",
        "        return item\n",
        "\n",
        "    def __len__(self):\n",
        "        return len(self.labels)\n",
        "\n",
        "# convierte los datos tokenizados en un torch dataset\n",
        "# ya que para usar transformers se necesita formato torch \n",
        "train_dataset = NewsGroupsDataset(train_encodings, train_labels)\n",
        "valid_dataset = NewsGroupsDataset(valid_encodings, valid_labels)"
      ],
      "metadata": {
        "id": "p-Onkjoq5Q3w"
      },
      "execution_count": 38,
      "outputs": []
    },
    {
      "cell_type": "code",
      "source": [
        "# Cargo el modelo y sus pesos pre-entrenados\n",
        "model1 = BertForSequenceClassification.from_pretrained(model_name1, num_labels=len(target_names))\n",
        "# num_labels, es el número de clases que tiene nuetra variable objetivo"
      ],
      "metadata": {
        "colab": {
          "base_uri": "https://localhost:8080/"
        },
        "id": "eKdwCSA95XFY",
        "outputId": "4eaa17ea-5e26-452c-bb59-c3b38b09cc7e"
      },
      "execution_count": 39,
      "outputs": [
        {
          "output_type": "stream",
          "name": "stderr",
          "text": [
            "Some weights of the model checkpoint at bert-base-uncased were not used when initializing BertForSequenceClassification: ['cls.predictions.bias', 'cls.seq_relationship.weight', 'cls.predictions.decoder.weight', 'cls.seq_relationship.bias', 'cls.predictions.transform.LayerNorm.weight', 'cls.predictions.transform.dense.bias', 'cls.predictions.transform.LayerNorm.bias', 'cls.predictions.transform.dense.weight']\n",
            "- This IS expected if you are initializing BertForSequenceClassification from the checkpoint of a model trained on another task or with another architecture (e.g. initializing a BertForSequenceClassification model from a BertForPreTraining model).\n",
            "- This IS NOT expected if you are initializing BertForSequenceClassification from the checkpoint of a model that you expect to be exactly identical (initializing a BertForSequenceClassification model from a BertForSequenceClassification model).\n",
            "Some weights of BertForSequenceClassification were not initialized from the model checkpoint at bert-base-uncased and are newly initialized: ['classifier.bias', 'classifier.weight']\n",
            "You should probably TRAIN this model on a down-stream task to be able to use it for predictions and inference.\n"
          ]
        }
      ]
    },
    {
      "cell_type": "code",
      "source": [
        "# Función para calcuular la métrica que deseamos, en este caso solo la accuracy\n",
        "from sklearn.metrics import accuracy_score, recall_score, precision_score, f1_score\n",
        "\n",
        "def compute_metrics(pred):\n",
        "  labels = pred.label_ids\n",
        "  preds = pred.predictions.argmax(-1)\n",
        "  # calcula la accuraccy \n",
        "  acc = accuracy_score(labels, preds)\n",
        "  # calcula la matriz de confusión\n",
        "  recall = recall_score(labels, preds)\n",
        "  precision = precision_score(labels, preds)\n",
        "  f1 = f1_score(labels, preds)\n",
        "  return {\n",
        "      'accuracy': acc,\n",
        "      'recall': recall,\n",
        "      'precision' : precision,\n",
        "      'f1': f1,\n",
        "  }"
      ],
      "metadata": {
        "id": "a6L1gojD7CBa"
      },
      "execution_count": 40,
      "outputs": []
    },
    {
      "cell_type": "code",
      "source": [
        "# Especificamos nuestros argumentos de entrenamiento\n",
        "training_args1 = TrainingArguments(\n",
        "    output_dir='./results',          # directorio de salida\n",
        "    num_train_epochs=1,              # número de veces que se repiten los datos de entrenamiento\n",
        "    per_device_train_batch_size=4,  # tamaño del lote durante entrenamiento\n",
        "    per_device_eval_batch_size=8,   # tamaño del lote para evaluación\n",
        "    warmup_steps=100,                # número de pasos para la tasa de aprendizaje\n",
        "    weight_decay=0.01,               # evita que los pesos se hagan demasiado grandes\n",
        "    logging_dir='./logs',            # directorio para guardar registros\n",
        "    load_best_model_at_end=True,     # carga el mejor modelo cuando finaliza el entrenamiento (metrica por defecto es loss)\n",
        "    # pero puede especificar `metric_for_best_model` para cambiar a accuracy u otra métrica.\n",
        "    logging_steps=800,               # registrar y guardar pesos cada logging_steps\n",
        "    save_steps=800,\n",
        "    evaluation_strategy=\"steps\",     # evaluar cada `logging_steps`\n",
        ")"
      ],
      "metadata": {
        "id": "h57CZa5L8Zj4"
      },
      "execution_count": 41,
      "outputs": []
    },
    {
      "cell_type": "code",
      "source": [
        "trainer1 = Trainer(\n",
        "    model=model1,                         # modelo a entrenar\n",
        "    args=training_args1,                  # argumentos sobre los que se va a entrenar\n",
        "    train_dataset=train_dataset,         # dataset de entrenamiento\n",
        "    eval_dataset=valid_dataset,          # dataset de evaluación\n",
        "    compute_metrics=compute_metrics,     # calcula las métricas de intereés\n",
        ")"
      ],
      "metadata": {
        "id": "UyFV_niZ8Zm5"
      },
      "execution_count": 42,
      "outputs": []
    },
    {
      "cell_type": "code",
      "source": [
        "# Entrenamiento del modelo\n",
        "trainer1.train()"
      ],
      "metadata": {
        "colab": {
          "base_uri": "https://localhost:8080/",
          "height": 1000
        },
        "id": "4k-aRDpC8ZpS",
        "outputId": "8557eba8-6660-4fdc-ea75-ab4410fd27a3"
      },
      "execution_count": 43,
      "outputs": [
        {
          "output_type": "stream",
          "name": "stderr",
          "text": [
            "/usr/local/lib/python3.7/dist-packages/transformers/optimization.py:309: FutureWarning: This implementation of AdamW is deprecated and will be removed in a future version. Use the PyTorch implementation torch.optim.AdamW instead, or set `no_deprecation_warning=True` to disable this warning\n",
            "  FutureWarning,\n",
            "***** Running training *****\n",
            "  Num examples = 19081\n",
            "  Num Epochs = 1\n",
            "  Instantaneous batch size per device = 4\n",
            "  Total train batch size (w. parallel, distributed & accumulation) = 4\n",
            "  Gradient Accumulation steps = 1\n",
            "  Total optimization steps = 4771\n"
          ]
        },
        {
          "output_type": "display_data",
          "data": {
            "text/plain": [
              "<IPython.core.display.HTML object>"
            ],
            "text/html": [
              "\n",
              "    <div>\n",
              "      \n",
              "      <progress value='4771' max='4771' style='width:300px; height:20px; vertical-align: middle;'></progress>\n",
              "      [4771/4771 14:25, Epoch 1/1]\n",
              "    </div>\n",
              "    <table border=\"1\" class=\"dataframe\">\n",
              "  <thead>\n",
              " <tr style=\"text-align: left;\">\n",
              "      <th>Step</th>\n",
              "      <th>Training Loss</th>\n",
              "      <th>Validation Loss</th>\n",
              "      <th>Accuracy</th>\n",
              "      <th>Recall</th>\n",
              "      <th>Precision</th>\n",
              "      <th>F1</th>\n",
              "    </tr>\n",
              "  </thead>\n",
              "  <tbody>\n",
              "    <tr>\n",
              "      <td>800</td>\n",
              "      <td>0.535800</td>\n",
              "      <td>0.464216</td>\n",
              "      <td>0.853181</td>\n",
              "      <td>0.513130</td>\n",
              "      <td>0.779111</td>\n",
              "      <td>0.618747</td>\n",
              "    </tr>\n",
              "    <tr>\n",
              "      <td>1600</td>\n",
              "      <td>0.546800</td>\n",
              "      <td>0.421065</td>\n",
              "      <td>0.845033</td>\n",
              "      <td>0.709040</td>\n",
              "      <td>0.653179</td>\n",
              "      <td>0.679964</td>\n",
              "    </tr>\n",
              "    <tr>\n",
              "      <td>2400</td>\n",
              "      <td>0.504800</td>\n",
              "      <td>0.421549</td>\n",
              "      <td>0.820267</td>\n",
              "      <td>0.770160</td>\n",
              "      <td>0.585926</td>\n",
              "      <td>0.665529</td>\n",
              "    </tr>\n",
              "    <tr>\n",
              "      <td>3200</td>\n",
              "      <td>0.501800</td>\n",
              "      <td>0.483641</td>\n",
              "      <td>0.861490</td>\n",
              "      <td>0.604462</td>\n",
              "      <td>0.750433</td>\n",
              "      <td>0.669584</td>\n",
              "    </tr>\n",
              "    <tr>\n",
              "      <td>4000</td>\n",
              "      <td>0.453900</td>\n",
              "      <td>0.449530</td>\n",
              "      <td>0.857983</td>\n",
              "      <td>0.541018</td>\n",
              "      <td>0.779899</td>\n",
              "      <td>0.638858</td>\n",
              "    </tr>\n",
              "  </tbody>\n",
              "</table><p>"
            ]
          },
          "metadata": {}
        },
        {
          "output_type": "stream",
          "name": "stderr",
          "text": [
            "***** Running Evaluation *****\n",
            "  Num examples = 18533\n",
            "  Batch size = 8\n",
            "Saving model checkpoint to ./results/checkpoint-800\n",
            "Configuration saved in ./results/checkpoint-800/config.json\n",
            "Model weights saved in ./results/checkpoint-800/pytorch_model.bin\n",
            "***** Running Evaluation *****\n",
            "  Num examples = 18533\n",
            "  Batch size = 8\n",
            "Saving model checkpoint to ./results/checkpoint-1600\n",
            "Configuration saved in ./results/checkpoint-1600/config.json\n",
            "Model weights saved in ./results/checkpoint-1600/pytorch_model.bin\n",
            "***** Running Evaluation *****\n",
            "  Num examples = 18533\n",
            "  Batch size = 8\n",
            "Saving model checkpoint to ./results/checkpoint-2400\n",
            "Configuration saved in ./results/checkpoint-2400/config.json\n",
            "Model weights saved in ./results/checkpoint-2400/pytorch_model.bin\n",
            "***** Running Evaluation *****\n",
            "  Num examples = 18533\n",
            "  Batch size = 8\n",
            "Saving model checkpoint to ./results/checkpoint-3200\n",
            "Configuration saved in ./results/checkpoint-3200/config.json\n",
            "Model weights saved in ./results/checkpoint-3200/pytorch_model.bin\n",
            "***** Running Evaluation *****\n",
            "  Num examples = 18533\n",
            "  Batch size = 8\n",
            "Saving model checkpoint to ./results/checkpoint-4000\n",
            "Configuration saved in ./results/checkpoint-4000/config.json\n",
            "Model weights saved in ./results/checkpoint-4000/pytorch_model.bin\n",
            "\n",
            "\n",
            "Training completed. Do not forget to share your model on huggingface.co/models =)\n",
            "\n",
            "\n",
            "Loading best model from ./results/checkpoint-1600 (score: 0.42106515169143677).\n"
          ]
        },
        {
          "output_type": "execute_result",
          "data": {
            "text/plain": [
              "TrainOutput(global_step=4771, training_loss=0.5015093632100188, metrics={'train_runtime': 865.8953, 'train_samples_per_second': 22.036, 'train_steps_per_second': 5.51, 'total_flos': 1019773228362720.0, 'train_loss': 0.5015093632100188, 'epoch': 1.0})"
            ]
          },
          "metadata": {},
          "execution_count": 43
        }
      ]
    },
    {
      "cell_type": "markdown",
      "source": [
        "'Training loss' indica qué tan bien se ajusta el modelo a los datos de entrenamiento, mientras que 'Validation loss' indica qué tan bien se ajusta el modelo a los datos nuevos. Estos valores tienen que decrecer puesto que estos algoritmos se basan en el descenso de gradiente, no se consigue gran mejora con respecto a la primera iteración."
      ],
      "metadata": {
        "id": "i1_FvoJT9Ma8"
      }
    },
    {
      "cell_type": "code",
      "source": [
        "# Evaluamos el mejor modelo obtenido después del entrenamiento\n",
        "trainer1.evaluate()"
      ],
      "metadata": {
        "colab": {
          "base_uri": "https://localhost:8080/",
          "height": 245
        },
        "id": "2kYVAwVZ8ZsM",
        "outputId": "999c6e17-dfe9-4f97-b7b2-71eb6c89c06e"
      },
      "execution_count": 44,
      "outputs": [
        {
          "output_type": "stream",
          "name": "stderr",
          "text": [
            "***** Running Evaluation *****\n",
            "  Num examples = 18533\n",
            "  Batch size = 8\n"
          ]
        },
        {
          "output_type": "display_data",
          "data": {
            "text/plain": [
              "<IPython.core.display.HTML object>"
            ],
            "text/html": [
              "\n",
              "    <div>\n",
              "      \n",
              "      <progress value='2317' max='2317' style='width:300px; height:20px; vertical-align: middle;'></progress>\n",
              "      [2317/2317 00:55]\n",
              "    </div>\n",
              "    "
            ]
          },
          "metadata": {}
        },
        {
          "output_type": "execute_result",
          "data": {
            "text/plain": [
              "{'epoch': 1.0,\n",
              " 'eval_accuracy': 0.8450331840500729,\n",
              " 'eval_f1': 0.6799643414308001,\n",
              " 'eval_loss': 0.42106515169143677,\n",
              " 'eval_precision': 0.653179190751445,\n",
              " 'eval_recall': 0.7090402045084825,\n",
              " 'eval_runtime': 55.304,\n",
              " 'eval_samples_per_second': 335.111,\n",
              " 'eval_steps_per_second': 41.896}"
            ]
          },
          "metadata": {},
          "execution_count": 44
        }
      ]
    },
    {
      "cell_type": "markdown",
      "source": [
        "La evaluación se realiza sobre el mejor modelo obtenido anteriormente.\n",
        "\n",
        "Hemos evaluado distintas métricas, como se trata de un dataset con datos muy desbalanceados no nos bastará con mirar la accuracy, pues esta medida solo tiene en cuenta el número de aciertos, pero esto para clases desbalanceadas no es lo idóneo, puesto que puede predcir a la perfección la clase mayoritaria, pero por el contrario no predecir en absoluto la clase minoritaria.\n",
        "Esto no nos sirve porque un modelo que nos diga que todas las noticias no son clickbait no nos sirve en absoluto. \n",
        "\n",
        "Tendríamos que tener en cuenta recall y precision.\n",
        "\n",
        "Si tenemos:\n",
        "\n",
        "* Alta precision y alto recall, el modelo maneja perfectamente esa clase.\n",
        "* Alta precision y bajo recall el modelo no detecta la clase muy bien, pero cuando lo hace es confiable.\n",
        "* Baja precision y alto recall, detecta bien la clase, pero también incluye muestras de la otra clase.\n",
        "* Baja precision y bajo recall el modelo no logra clasificar la clase correctamente.\n",
        "\n",
        "En este caso hemos obtenido con el mejor modelo:\n",
        "\n",
        "* precision =  0.7462648119526017\n",
        "* recall = 0.6385276614502976\n",
        "\n",
        "Vemos que no son valores extremadamente bajos, pero tampoco son altos, por lo que nuestro modelo no está pudiendo clasificar la clase tan bien como desearíamos."
      ],
      "metadata": {
        "id": "-p6Q_UhFXbxj"
      }
    },
    {
      "cell_type": "code",
      "source": [
        "# Especificamos nuevos argumentos de entrenamiento\n",
        "training_args2 = TrainingArguments(\n",
        "    output_dir='./results',          # directorio de salida\n",
        "    num_train_epochs=2,              # número de veces que se repiten los datos de entrenamiento\n",
        "    per_device_train_batch_size=8,  # tamaño del lote durante entrenamiento\n",
        "    per_device_eval_batch_size=8,   # tamaño del lote para evaluación\n",
        "    warmup_steps=200,                # número de pasos para la tasa de aprendizaje\n",
        "    weight_decay=0.01,               # evita que los pesos se hagan demasiado grandes\n",
        "    logging_dir='./logs',            # directorio para guardar registros\n",
        "    load_best_model_at_end=True,     # carga el mejor modelo cuando finaliza el entrenamiento (metrica por defecto es loss)\n",
        "    # pero puede especificar `metric_for_best_model` para cambiar a accuracy u otra métrica.\n",
        "    logging_steps=600,               # registrar y guardar pesos cada logging_steps\n",
        "    save_steps=600,\n",
        "    evaluation_strategy=\"steps\",     # evaluar cada `logging_steps`\n",
        ")"
      ],
      "metadata": {
        "colab": {
          "base_uri": "https://localhost:8080/"
        },
        "id": "PpHLrt-j8ZvG",
        "outputId": "0c28484f-853a-40c7-a73b-58c0c8638a42"
      },
      "execution_count": 45,
      "outputs": [
        {
          "output_type": "stream",
          "name": "stderr",
          "text": [
            "using `logging_steps` to initialize `eval_steps` to 600\n",
            "PyTorch: setting up devices\n",
            "The default value for the training argument `--report_to` will change in v5 (from all installed integrations to none). In v5, you will need to use `--report_to all` to get the same behavior as now. You should start updating your code and make this info disappear :-).\n"
          ]
        }
      ]
    },
    {
      "cell_type": "code",
      "source": [
        "trainer2 = Trainer(\n",
        "    model=model1,                         # modelo a entrenar\n",
        "    args=training_args2,                  # argumentos sobre los que se va a entrenar\n",
        "    train_dataset=train_dataset,         # dataset de entrenamiento\n",
        "    eval_dataset=valid_dataset,          # dataset de evaluación\n",
        "    compute_metrics=compute_metrics,     # calcula las métricas de intereés\n",
        ")"
      ],
      "metadata": {
        "id": "759GiXdUnEvZ"
      },
      "execution_count": 46,
      "outputs": []
    },
    {
      "cell_type": "code",
      "source": [
        "# Entrenamiento del modelo\n",
        "trainer2.train()"
      ],
      "metadata": {
        "colab": {
          "base_uri": "https://localhost:8080/",
          "height": 1000
        },
        "id": "EyS5ptx1MnQs",
        "outputId": "253ca15d-073f-41c4-b102-6e0123511511"
      },
      "execution_count": 47,
      "outputs": [
        {
          "output_type": "stream",
          "name": "stderr",
          "text": [
            "/usr/local/lib/python3.7/dist-packages/transformers/optimization.py:309: FutureWarning: This implementation of AdamW is deprecated and will be removed in a future version. Use the PyTorch implementation torch.optim.AdamW instead, or set `no_deprecation_warning=True` to disable this warning\n",
            "  FutureWarning,\n",
            "***** Running training *****\n",
            "  Num examples = 19081\n",
            "  Num Epochs = 2\n",
            "  Instantaneous batch size per device = 8\n",
            "  Total train batch size (w. parallel, distributed & accumulation) = 8\n",
            "  Gradient Accumulation steps = 1\n",
            "  Total optimization steps = 4772\n"
          ]
        },
        {
          "output_type": "display_data",
          "data": {
            "text/plain": [
              "<IPython.core.display.HTML object>"
            ],
            "text/html": [
              "\n",
              "    <div>\n",
              "      \n",
              "      <progress value='4772' max='4772' style='width:300px; height:20px; vertical-align: middle;'></progress>\n",
              "      [4772/4772 20:56, Epoch 2/2]\n",
              "    </div>\n",
              "    <table border=\"1\" class=\"dataframe\">\n",
              "  <thead>\n",
              " <tr style=\"text-align: left;\">\n",
              "      <th>Step</th>\n",
              "      <th>Training Loss</th>\n",
              "      <th>Validation Loss</th>\n",
              "      <th>Accuracy</th>\n",
              "      <th>Recall</th>\n",
              "      <th>Precision</th>\n",
              "      <th>F1</th>\n",
              "    </tr>\n",
              "  </thead>\n",
              "  <tbody>\n",
              "    <tr>\n",
              "      <td>600</td>\n",
              "      <td>0.392800</td>\n",
              "      <td>0.393499</td>\n",
              "      <td>0.856580</td>\n",
              "      <td>0.610969</td>\n",
              "      <td>0.727650</td>\n",
              "      <td>0.664224</td>\n",
              "    </tr>\n",
              "    <tr>\n",
              "      <td>1200</td>\n",
              "      <td>0.419700</td>\n",
              "      <td>0.428138</td>\n",
              "      <td>0.846004</td>\n",
              "      <td>0.432721</td>\n",
              "      <td>0.818462</td>\n",
              "      <td>0.566130</td>\n",
              "    </tr>\n",
              "    <tr>\n",
              "      <td>1800</td>\n",
              "      <td>0.422500</td>\n",
              "      <td>0.351250</td>\n",
              "      <td>0.848055</td>\n",
              "      <td>0.474785</td>\n",
              "      <td>0.786072</td>\n",
              "      <td>0.592002</td>\n",
              "    </tr>\n",
              "    <tr>\n",
              "      <td>2400</td>\n",
              "      <td>0.392500</td>\n",
              "      <td>0.388457</td>\n",
              "      <td>0.853720</td>\n",
              "      <td>0.715547</td>\n",
              "      <td>0.674332</td>\n",
              "      <td>0.694329</td>\n",
              "    </tr>\n",
              "    <tr>\n",
              "      <td>3000</td>\n",
              "      <td>0.355400</td>\n",
              "      <td>0.424882</td>\n",
              "      <td>0.849566</td>\n",
              "      <td>0.590286</td>\n",
              "      <td>0.712482</td>\n",
              "      <td>0.645653</td>\n",
              "    </tr>\n",
              "    <tr>\n",
              "      <td>3600</td>\n",
              "      <td>0.357300</td>\n",
              "      <td>0.409812</td>\n",
              "      <td>0.858415</td>\n",
              "      <td>0.682779</td>\n",
              "      <td>0.700024</td>\n",
              "      <td>0.691294</td>\n",
              "    </tr>\n",
              "    <tr>\n",
              "      <td>4200</td>\n",
              "      <td>0.331000</td>\n",
              "      <td>0.414508</td>\n",
              "      <td>0.859602</td>\n",
              "      <td>0.650709</td>\n",
              "      <td>0.718133</td>\n",
              "      <td>0.682760</td>\n",
              "    </tr>\n",
              "  </tbody>\n",
              "</table><p>"
            ]
          },
          "metadata": {}
        },
        {
          "output_type": "stream",
          "name": "stderr",
          "text": [
            "***** Running Evaluation *****\n",
            "  Num examples = 18533\n",
            "  Batch size = 8\n",
            "Saving model checkpoint to ./results/checkpoint-600\n",
            "Configuration saved in ./results/checkpoint-600/config.json\n",
            "Model weights saved in ./results/checkpoint-600/pytorch_model.bin\n",
            "***** Running Evaluation *****\n",
            "  Num examples = 18533\n",
            "  Batch size = 8\n",
            "Saving model checkpoint to ./results/checkpoint-1200\n",
            "Configuration saved in ./results/checkpoint-1200/config.json\n",
            "Model weights saved in ./results/checkpoint-1200/pytorch_model.bin\n",
            "***** Running Evaluation *****\n",
            "  Num examples = 18533\n",
            "  Batch size = 8\n",
            "Saving model checkpoint to ./results/checkpoint-1800\n",
            "Configuration saved in ./results/checkpoint-1800/config.json\n",
            "Model weights saved in ./results/checkpoint-1800/pytorch_model.bin\n",
            "***** Running Evaluation *****\n",
            "  Num examples = 18533\n",
            "  Batch size = 8\n",
            "Saving model checkpoint to ./results/checkpoint-2400\n",
            "Configuration saved in ./results/checkpoint-2400/config.json\n",
            "Model weights saved in ./results/checkpoint-2400/pytorch_model.bin\n",
            "***** Running Evaluation *****\n",
            "  Num examples = 18533\n",
            "  Batch size = 8\n",
            "Saving model checkpoint to ./results/checkpoint-3000\n",
            "Configuration saved in ./results/checkpoint-3000/config.json\n",
            "Model weights saved in ./results/checkpoint-3000/pytorch_model.bin\n",
            "***** Running Evaluation *****\n",
            "  Num examples = 18533\n",
            "  Batch size = 8\n",
            "Saving model checkpoint to ./results/checkpoint-3600\n",
            "Configuration saved in ./results/checkpoint-3600/config.json\n",
            "Model weights saved in ./results/checkpoint-3600/pytorch_model.bin\n",
            "***** Running Evaluation *****\n",
            "  Num examples = 18533\n",
            "  Batch size = 8\n",
            "Saving model checkpoint to ./results/checkpoint-4200\n",
            "Configuration saved in ./results/checkpoint-4200/config.json\n",
            "Model weights saved in ./results/checkpoint-4200/pytorch_model.bin\n",
            "\n",
            "\n",
            "Training completed. Do not forget to share your model on huggingface.co/models =)\n",
            "\n",
            "\n",
            "Loading best model from ./results/checkpoint-1800 (score: 0.35125017166137695).\n"
          ]
        },
        {
          "output_type": "execute_result",
          "data": {
            "text/plain": [
              "TrainOutput(global_step=4772, training_loss=0.3754251612801564, metrics={'train_runtime': 1256.2399, 'train_samples_per_second': 30.378, 'train_steps_per_second': 3.799, 'total_flos': 2039546456725440.0, 'train_loss': 0.3754251612801564, 'epoch': 2.0})"
            ]
          },
          "metadata": {},
          "execution_count": 47
        }
      ]
    },
    {
      "cell_type": "code",
      "source": [
        "# Evaluamos el mejor modelo obtenido después del entrenamiento\n",
        "trainer2.evaluate()"
      ],
      "metadata": {
        "colab": {
          "base_uri": "https://localhost:8080/",
          "height": 245
        },
        "id": "lY9ICdg6Mr7h",
        "outputId": "1339d261-5ef3-44ff-ca9b-4c37652af681"
      },
      "execution_count": 48,
      "outputs": [
        {
          "output_type": "stream",
          "name": "stderr",
          "text": [
            "***** Running Evaluation *****\n",
            "  Num examples = 18533\n",
            "  Batch size = 8\n"
          ]
        },
        {
          "output_type": "display_data",
          "data": {
            "text/plain": [
              "<IPython.core.display.HTML object>"
            ],
            "text/html": [
              "\n",
              "    <div>\n",
              "      \n",
              "      <progress value='2317' max='2317' style='width:300px; height:20px; vertical-align: middle;'></progress>\n",
              "      [2317/2317 00:54]\n",
              "    </div>\n",
              "    "
            ]
          },
          "metadata": {}
        },
        {
          "output_type": "execute_result",
          "data": {
            "text/plain": [
              "{'epoch': 2.0,\n",
              " 'eval_accuracy': 0.8480548211298764,\n",
              " 'eval_f1': 0.5920023181686467,\n",
              " 'eval_loss': 0.35125017166137695,\n",
              " 'eval_precision': 0.7860715659869181,\n",
              " 'eval_recall': 0.4747850336974204,\n",
              " 'eval_runtime': 55.081,\n",
              " 'eval_samples_per_second': 336.468,\n",
              " 'eval_steps_per_second': 42.065}"
            ]
          },
          "metadata": {},
          "execution_count": 48
        }
      ]
    },
    {
      "cell_type": "markdown",
      "source": [
        "En esta ocasión al variar los parámetros hemos tardado más tiempo en el entrenamiento.\n",
        "Al aumentar el número de 'epoch', se obtiene un mejor entrenamiento.\n",
        "Se ha disminuido el número de pasos tras los que se evalua y guarda el modelo, disminuyendo, hacemos que se evalúe y guarde más veces el modelo, ya que lo hace cada menos pasos, debido a esto también se ha aumentado el tiempo de cómputo.\n",
        "\n",
        "Se puede comprobar como variando los parámetros podríamos seguir mejorando el modelo, para ello deberíamos aumentar el número de 'epoch', así como aumentar el tamaño del batch y también disminuir aún más los pasos tras los que se evalua y guarda el modelo, pero debido a la falta de GPU y disponibilidad de google colab esto no ha sido posible."
      ],
      "metadata": {
        "id": "pvhnyUovxLPJ"
      }
    },
    {
      "cell_type": "markdown",
      "source": [
        "En esta ocasión hemos obtenido:\n",
        "\n",
        "* precision =  0.8852848101265823\n",
        "* recall =  0.7399162442142385\n",
        "\n",
        "Por lo que hemos conseguido mejorar el modelo, pero aún habría bastantes valores a los que no detecta la clase bien.\n",
        "\n",
        "Precision puede considerarse alta, pero recall no sería tan alta como deseríamos por lo que podría decirse que no detecta la clase muy bien pero cuando lo hace es confiable."
      ],
      "metadata": {
        "id": "rRhi9WbX05b3"
      }
    },
    {
      "cell_type": "markdown",
      "source": [
        "Considero que lo solicitado ha sido realizado obteniendo bastante buenos resultados, ya que se pidió un modelo de detección de clickbait en tweets, utilizando la técnica de fine-tuning de un modelo pre-entrenado de tipo BERT y se ha realizado correctamente.\n",
        "\n",
        "Aunque me hubiese gustado poder probar más modelo, así como poder variar más los parámetros para intentar conseguir mejorar los parámetros y conseguir mejores resultados, cosa que no ha podido realizarse debido a las disponibilidades de GPU de google colab free."
      ],
      "metadata": {
        "id": "PRUOdQRIbgpN"
      }
    },
    {
      "cell_type": "markdown",
      "source": [
        "Trabajando con el dataset tal cuál podríamos intentar mejorar los valores tuneando los parámetros, pero aunque así fuese no conseguiríamos un modelo tan confiable como para fiarnos de los resultados obtenidos, y esto es debido al desbalanceo entre clases.\n",
        "\n",
        "Para poder solucionar este problema, lo que tendríamos que realizar es alguna de las técnicas para balancear el dataset.\n",
        "\n",
        "Existen diferentes técnicas para ello, basandose algunas de ellas en la creación de nuevos datos para poder igualar las clases, o el caso contrario, el cual se trataría de eliminar datos de la clase mayoritaria para así poder obtener unn dataset balanceado."
      ],
      "metadata": {
        "id": "pAiZkN-p2MDh"
      }
    },
    {
      "cell_type": "code",
      "source": [
        "# Ordenamos el dataset train\n",
        "train_ordered = train.sort_values('truthClass',ascending = False, ignore_index = True)\n",
        "train_ordered.head(100)"
      ],
      "metadata": {
        "colab": {
          "base_uri": "https://localhost:8080/",
          "height": 423
        },
        "id": "5swC2U4B22Ta",
        "outputId": "c5d04612-a056-4c78-8152-fce459b6aa5f"
      },
      "execution_count": 49,
      "outputs": [
        {
          "output_type": "execute_result",
          "data": {
            "text/plain": [
              "                                             postText  truthClass\n",
              "0   So when exactly does the New Year begin in space?           1\n",
              "1                  Time to start doing your homework:           1\n",
              "2   The earbuds of the future will let you control...           1\n",
              "3   So the (basically) official Arthur Twitter jus...           1\n",
              "4   They were hoping to get to the US -- and then ...           1\n",
              "..                                                ...         ...\n",
              "95        Is this the mobile home for the apocalypse?           1\n",
              "96  30 years later, the creepy Max Headroom broadc...           1\n",
              "97  Here are the best titles coming to Netflix in ...           1\n",
              "98  Women flood Twitter with stories of the first ...           1\n",
              "99  The #journalist, reportedly, even shared detai...           1\n",
              "\n",
              "[100 rows x 2 columns]"
            ],
            "text/html": [
              "\n",
              "  <div id=\"df-dfcd7e50-a9f9-4112-b173-c338295de65e\">\n",
              "    <div class=\"colab-df-container\">\n",
              "      <div>\n",
              "<style scoped>\n",
              "    .dataframe tbody tr th:only-of-type {\n",
              "        vertical-align: middle;\n",
              "    }\n",
              "\n",
              "    .dataframe tbody tr th {\n",
              "        vertical-align: top;\n",
              "    }\n",
              "\n",
              "    .dataframe thead th {\n",
              "        text-align: right;\n",
              "    }\n",
              "</style>\n",
              "<table border=\"1\" class=\"dataframe\">\n",
              "  <thead>\n",
              "    <tr style=\"text-align: right;\">\n",
              "      <th></th>\n",
              "      <th>postText</th>\n",
              "      <th>truthClass</th>\n",
              "    </tr>\n",
              "  </thead>\n",
              "  <tbody>\n",
              "    <tr>\n",
              "      <th>0</th>\n",
              "      <td>So when exactly does the New Year begin in space?</td>\n",
              "      <td>1</td>\n",
              "    </tr>\n",
              "    <tr>\n",
              "      <th>1</th>\n",
              "      <td>Time to start doing your homework:</td>\n",
              "      <td>1</td>\n",
              "    </tr>\n",
              "    <tr>\n",
              "      <th>2</th>\n",
              "      <td>The earbuds of the future will let you control...</td>\n",
              "      <td>1</td>\n",
              "    </tr>\n",
              "    <tr>\n",
              "      <th>3</th>\n",
              "      <td>So the (basically) official Arthur Twitter jus...</td>\n",
              "      <td>1</td>\n",
              "    </tr>\n",
              "    <tr>\n",
              "      <th>4</th>\n",
              "      <td>They were hoping to get to the US -- and then ...</td>\n",
              "      <td>1</td>\n",
              "    </tr>\n",
              "    <tr>\n",
              "      <th>...</th>\n",
              "      <td>...</td>\n",
              "      <td>...</td>\n",
              "    </tr>\n",
              "    <tr>\n",
              "      <th>95</th>\n",
              "      <td>Is this the mobile home for the apocalypse?</td>\n",
              "      <td>1</td>\n",
              "    </tr>\n",
              "    <tr>\n",
              "      <th>96</th>\n",
              "      <td>30 years later, the creepy Max Headroom broadc...</td>\n",
              "      <td>1</td>\n",
              "    </tr>\n",
              "    <tr>\n",
              "      <th>97</th>\n",
              "      <td>Here are the best titles coming to Netflix in ...</td>\n",
              "      <td>1</td>\n",
              "    </tr>\n",
              "    <tr>\n",
              "      <th>98</th>\n",
              "      <td>Women flood Twitter with stories of the first ...</td>\n",
              "      <td>1</td>\n",
              "    </tr>\n",
              "    <tr>\n",
              "      <th>99</th>\n",
              "      <td>The #journalist, reportedly, even shared detai...</td>\n",
              "      <td>1</td>\n",
              "    </tr>\n",
              "  </tbody>\n",
              "</table>\n",
              "<p>100 rows × 2 columns</p>\n",
              "</div>\n",
              "      <button class=\"colab-df-convert\" onclick=\"convertToInteractive('df-dfcd7e50-a9f9-4112-b173-c338295de65e')\"\n",
              "              title=\"Convert this dataframe to an interactive table.\"\n",
              "              style=\"display:none;\">\n",
              "        \n",
              "  <svg xmlns=\"http://www.w3.org/2000/svg\" height=\"24px\"viewBox=\"0 0 24 24\"\n",
              "       width=\"24px\">\n",
              "    <path d=\"M0 0h24v24H0V0z\" fill=\"none\"/>\n",
              "    <path d=\"M18.56 5.44l.94 2.06.94-2.06 2.06-.94-2.06-.94-.94-2.06-.94 2.06-2.06.94zm-11 1L8.5 8.5l.94-2.06 2.06-.94-2.06-.94L8.5 2.5l-.94 2.06-2.06.94zm10 10l.94 2.06.94-2.06 2.06-.94-2.06-.94-.94-2.06-.94 2.06-2.06.94z\"/><path d=\"M17.41 7.96l-1.37-1.37c-.4-.4-.92-.59-1.43-.59-.52 0-1.04.2-1.43.59L10.3 9.45l-7.72 7.72c-.78.78-.78 2.05 0 2.83L4 21.41c.39.39.9.59 1.41.59.51 0 1.02-.2 1.41-.59l7.78-7.78 2.81-2.81c.8-.78.8-2.07 0-2.86zM5.41 20L4 18.59l7.72-7.72 1.47 1.35L5.41 20z\"/>\n",
              "  </svg>\n",
              "      </button>\n",
              "      \n",
              "  <style>\n",
              "    .colab-df-container {\n",
              "      display:flex;\n",
              "      flex-wrap:wrap;\n",
              "      gap: 12px;\n",
              "    }\n",
              "\n",
              "    .colab-df-convert {\n",
              "      background-color: #E8F0FE;\n",
              "      border: none;\n",
              "      border-radius: 50%;\n",
              "      cursor: pointer;\n",
              "      display: none;\n",
              "      fill: #1967D2;\n",
              "      height: 32px;\n",
              "      padding: 0 0 0 0;\n",
              "      width: 32px;\n",
              "    }\n",
              "\n",
              "    .colab-df-convert:hover {\n",
              "      background-color: #E2EBFA;\n",
              "      box-shadow: 0px 1px 2px rgba(60, 64, 67, 0.3), 0px 1px 3px 1px rgba(60, 64, 67, 0.15);\n",
              "      fill: #174EA6;\n",
              "    }\n",
              "\n",
              "    [theme=dark] .colab-df-convert {\n",
              "      background-color: #3B4455;\n",
              "      fill: #D2E3FC;\n",
              "    }\n",
              "\n",
              "    [theme=dark] .colab-df-convert:hover {\n",
              "      background-color: #434B5C;\n",
              "      box-shadow: 0px 1px 3px 1px rgba(0, 0, 0, 0.15);\n",
              "      filter: drop-shadow(0px 1px 2px rgba(0, 0, 0, 0.3));\n",
              "      fill: #FFFFFF;\n",
              "    }\n",
              "  </style>\n",
              "\n",
              "      <script>\n",
              "        const buttonEl =\n",
              "          document.querySelector('#df-dfcd7e50-a9f9-4112-b173-c338295de65e button.colab-df-convert');\n",
              "        buttonEl.style.display =\n",
              "          google.colab.kernel.accessAllowed ? 'block' : 'none';\n",
              "\n",
              "        async function convertToInteractive(key) {\n",
              "          const element = document.querySelector('#df-dfcd7e50-a9f9-4112-b173-c338295de65e');\n",
              "          const dataTable =\n",
              "            await google.colab.kernel.invokeFunction('convertToInteractive',\n",
              "                                                     [key], {});\n",
              "          if (!dataTable) return;\n",
              "\n",
              "          const docLinkHtml = 'Like what you see? Visit the ' +\n",
              "            '<a target=\"_blank\" href=https://colab.research.google.com/notebooks/data_table.ipynb>data table notebook</a>'\n",
              "            + ' to learn more about interactive tables.';\n",
              "          element.innerHTML = '';\n",
              "          dataTable['output_type'] = 'display_data';\n",
              "          await google.colab.output.renderOutput(dataTable, element);\n",
              "          const docLink = document.createElement('div');\n",
              "          docLink.innerHTML = docLinkHtml;\n",
              "          element.appendChild(docLink);\n",
              "        }\n",
              "      </script>\n",
              "    </div>\n",
              "  </div>\n",
              "  "
            ]
          },
          "metadata": {},
          "execution_count": 49
        }
      ]
    },
    {
      "cell_type": "code",
      "source": [
        "pd.value_counts(train_ordered['truthClass'])"
      ],
      "metadata": {
        "colab": {
          "base_uri": "https://localhost:8080/"
        },
        "id": "uzT5O2fb3lBY",
        "outputId": "cbd15a18-cca3-4160-ae28-781d5658a744"
      },
      "execution_count": 50,
      "outputs": [
        {
          "output_type": "execute_result",
          "data": {
            "text/plain": [
              "0    14544\n",
              "1     4537\n",
              "Name: truthClass, dtype: int64"
            ]
          },
          "metadata": {},
          "execution_count": 50
        }
      ]
    },
    {
      "cell_type": "code",
      "source": [
        "train_ordered"
      ],
      "metadata": {
        "colab": {
          "base_uri": "https://localhost:8080/",
          "height": 423
        },
        "id": "kmCWZSYa7aEi",
        "outputId": "6079427d-0dbd-4e7b-c59b-6fdd6284b9d3"
      },
      "execution_count": 51,
      "outputs": [
        {
          "output_type": "execute_result",
          "data": {
            "text/plain": [
              "                                                postText  truthClass\n",
              "0      So when exactly does the New Year begin in space?           1\n",
              "1                     Time to start doing your homework:           1\n",
              "2      The earbuds of the future will let you control...           1\n",
              "3      So the (basically) official Arthur Twitter jus...           1\n",
              "4      They were hoping to get to the US -- and then ...           1\n",
              "...                                                  ...         ...\n",
              "19076  \"Tasty the Cookbook\" has been a huge hit for @...           0\n",
              "19077  Five races to watch during Sunday’s Golden Glo...           0\n",
              "19078  Queen appears in public for first time in a mo...           0\n",
              "19079  The long, hard road to repealing Obamacare is ...           0\n",
              "19080  Richard Sherman weighs in on Cam Newton’s stru...           0\n",
              "\n",
              "[19081 rows x 2 columns]"
            ],
            "text/html": [
              "\n",
              "  <div id=\"df-b8daabae-1657-4aac-ae22-fb7b4ebaa8c5\">\n",
              "    <div class=\"colab-df-container\">\n",
              "      <div>\n",
              "<style scoped>\n",
              "    .dataframe tbody tr th:only-of-type {\n",
              "        vertical-align: middle;\n",
              "    }\n",
              "\n",
              "    .dataframe tbody tr th {\n",
              "        vertical-align: top;\n",
              "    }\n",
              "\n",
              "    .dataframe thead th {\n",
              "        text-align: right;\n",
              "    }\n",
              "</style>\n",
              "<table border=\"1\" class=\"dataframe\">\n",
              "  <thead>\n",
              "    <tr style=\"text-align: right;\">\n",
              "      <th></th>\n",
              "      <th>postText</th>\n",
              "      <th>truthClass</th>\n",
              "    </tr>\n",
              "  </thead>\n",
              "  <tbody>\n",
              "    <tr>\n",
              "      <th>0</th>\n",
              "      <td>So when exactly does the New Year begin in space?</td>\n",
              "      <td>1</td>\n",
              "    </tr>\n",
              "    <tr>\n",
              "      <th>1</th>\n",
              "      <td>Time to start doing your homework:</td>\n",
              "      <td>1</td>\n",
              "    </tr>\n",
              "    <tr>\n",
              "      <th>2</th>\n",
              "      <td>The earbuds of the future will let you control...</td>\n",
              "      <td>1</td>\n",
              "    </tr>\n",
              "    <tr>\n",
              "      <th>3</th>\n",
              "      <td>So the (basically) official Arthur Twitter jus...</td>\n",
              "      <td>1</td>\n",
              "    </tr>\n",
              "    <tr>\n",
              "      <th>4</th>\n",
              "      <td>They were hoping to get to the US -- and then ...</td>\n",
              "      <td>1</td>\n",
              "    </tr>\n",
              "    <tr>\n",
              "      <th>...</th>\n",
              "      <td>...</td>\n",
              "      <td>...</td>\n",
              "    </tr>\n",
              "    <tr>\n",
              "      <th>19076</th>\n",
              "      <td>\"Tasty the Cookbook\" has been a huge hit for @...</td>\n",
              "      <td>0</td>\n",
              "    </tr>\n",
              "    <tr>\n",
              "      <th>19077</th>\n",
              "      <td>Five races to watch during Sunday’s Golden Glo...</td>\n",
              "      <td>0</td>\n",
              "    </tr>\n",
              "    <tr>\n",
              "      <th>19078</th>\n",
              "      <td>Queen appears in public for first time in a mo...</td>\n",
              "      <td>0</td>\n",
              "    </tr>\n",
              "    <tr>\n",
              "      <th>19079</th>\n",
              "      <td>The long, hard road to repealing Obamacare is ...</td>\n",
              "      <td>0</td>\n",
              "    </tr>\n",
              "    <tr>\n",
              "      <th>19080</th>\n",
              "      <td>Richard Sherman weighs in on Cam Newton’s stru...</td>\n",
              "      <td>0</td>\n",
              "    </tr>\n",
              "  </tbody>\n",
              "</table>\n",
              "<p>19081 rows × 2 columns</p>\n",
              "</div>\n",
              "      <button class=\"colab-df-convert\" onclick=\"convertToInteractive('df-b8daabae-1657-4aac-ae22-fb7b4ebaa8c5')\"\n",
              "              title=\"Convert this dataframe to an interactive table.\"\n",
              "              style=\"display:none;\">\n",
              "        \n",
              "  <svg xmlns=\"http://www.w3.org/2000/svg\" height=\"24px\"viewBox=\"0 0 24 24\"\n",
              "       width=\"24px\">\n",
              "    <path d=\"M0 0h24v24H0V0z\" fill=\"none\"/>\n",
              "    <path d=\"M18.56 5.44l.94 2.06.94-2.06 2.06-.94-2.06-.94-.94-2.06-.94 2.06-2.06.94zm-11 1L8.5 8.5l.94-2.06 2.06-.94-2.06-.94L8.5 2.5l-.94 2.06-2.06.94zm10 10l.94 2.06.94-2.06 2.06-.94-2.06-.94-.94-2.06-.94 2.06-2.06.94z\"/><path d=\"M17.41 7.96l-1.37-1.37c-.4-.4-.92-.59-1.43-.59-.52 0-1.04.2-1.43.59L10.3 9.45l-7.72 7.72c-.78.78-.78 2.05 0 2.83L4 21.41c.39.39.9.59 1.41.59.51 0 1.02-.2 1.41-.59l7.78-7.78 2.81-2.81c.8-.78.8-2.07 0-2.86zM5.41 20L4 18.59l7.72-7.72 1.47 1.35L5.41 20z\"/>\n",
              "  </svg>\n",
              "      </button>\n",
              "      \n",
              "  <style>\n",
              "    .colab-df-container {\n",
              "      display:flex;\n",
              "      flex-wrap:wrap;\n",
              "      gap: 12px;\n",
              "    }\n",
              "\n",
              "    .colab-df-convert {\n",
              "      background-color: #E8F0FE;\n",
              "      border: none;\n",
              "      border-radius: 50%;\n",
              "      cursor: pointer;\n",
              "      display: none;\n",
              "      fill: #1967D2;\n",
              "      height: 32px;\n",
              "      padding: 0 0 0 0;\n",
              "      width: 32px;\n",
              "    }\n",
              "\n",
              "    .colab-df-convert:hover {\n",
              "      background-color: #E2EBFA;\n",
              "      box-shadow: 0px 1px 2px rgba(60, 64, 67, 0.3), 0px 1px 3px 1px rgba(60, 64, 67, 0.15);\n",
              "      fill: #174EA6;\n",
              "    }\n",
              "\n",
              "    [theme=dark] .colab-df-convert {\n",
              "      background-color: #3B4455;\n",
              "      fill: #D2E3FC;\n",
              "    }\n",
              "\n",
              "    [theme=dark] .colab-df-convert:hover {\n",
              "      background-color: #434B5C;\n",
              "      box-shadow: 0px 1px 3px 1px rgba(0, 0, 0, 0.15);\n",
              "      filter: drop-shadow(0px 1px 2px rgba(0, 0, 0, 0.3));\n",
              "      fill: #FFFFFF;\n",
              "    }\n",
              "  </style>\n",
              "\n",
              "      <script>\n",
              "        const buttonEl =\n",
              "          document.querySelector('#df-b8daabae-1657-4aac-ae22-fb7b4ebaa8c5 button.colab-df-convert');\n",
              "        buttonEl.style.display =\n",
              "          google.colab.kernel.accessAllowed ? 'block' : 'none';\n",
              "\n",
              "        async function convertToInteractive(key) {\n",
              "          const element = document.querySelector('#df-b8daabae-1657-4aac-ae22-fb7b4ebaa8c5');\n",
              "          const dataTable =\n",
              "            await google.colab.kernel.invokeFunction('convertToInteractive',\n",
              "                                                     [key], {});\n",
              "          if (!dataTable) return;\n",
              "\n",
              "          const docLinkHtml = 'Like what you see? Visit the ' +\n",
              "            '<a target=\"_blank\" href=https://colab.research.google.com/notebooks/data_table.ipynb>data table notebook</a>'\n",
              "            + ' to learn more about interactive tables.';\n",
              "          element.innerHTML = '';\n",
              "          dataTable['output_type'] = 'display_data';\n",
              "          await google.colab.output.renderOutput(dataTable, element);\n",
              "          const docLink = document.createElement('div');\n",
              "          docLink.innerHTML = docLinkHtml;\n",
              "          element.appendChild(docLink);\n",
              "        }\n",
              "      </script>\n",
              "    </div>\n",
              "  </div>\n",
              "  "
            ]
          },
          "metadata": {},
          "execution_count": 51
        }
      ]
    },
    {
      "cell_type": "code",
      "source": [
        "train_balanceado = train_ordered.drop(range(9073,19080),axis=0)"
      ],
      "metadata": {
        "id": "crxTqPOJ32_W"
      },
      "execution_count": 52,
      "outputs": []
    },
    {
      "cell_type": "code",
      "source": [
        "train_balanceado"
      ],
      "metadata": {
        "colab": {
          "base_uri": "https://localhost:8080/",
          "height": 423
        },
        "id": "DJ8lWdvf6bY0",
        "outputId": "913e62b9-e34f-490e-8d68-9f31907fdb23"
      },
      "execution_count": 53,
      "outputs": [
        {
          "output_type": "execute_result",
          "data": {
            "text/plain": [
              "                                                postText  truthClass\n",
              "0      So when exactly does the New Year begin in space?           1\n",
              "1                     Time to start doing your homework:           1\n",
              "2      The earbuds of the future will let you control...           1\n",
              "3      So the (basically) official Arthur Twitter jus...           1\n",
              "4      They were hoping to get to the US -- and then ...           1\n",
              "...                                                  ...         ...\n",
              "9069   NFL denies barring Lady Gaga from talking poli...           0\n",
              "9070   White House press secretary Josh Earnest: The ...           0\n",
              "9071   Seeing a lot of pink hats today? The \"Pussyhat...           0\n",
              "9072   People with high emotional intelligence are ma...           0\n",
              "19080  Richard Sherman weighs in on Cam Newton’s stru...           0\n",
              "\n",
              "[9074 rows x 2 columns]"
            ],
            "text/html": [
              "\n",
              "  <div id=\"df-c73043f1-7bcd-41e5-9c39-6fa76fa60ff4\">\n",
              "    <div class=\"colab-df-container\">\n",
              "      <div>\n",
              "<style scoped>\n",
              "    .dataframe tbody tr th:only-of-type {\n",
              "        vertical-align: middle;\n",
              "    }\n",
              "\n",
              "    .dataframe tbody tr th {\n",
              "        vertical-align: top;\n",
              "    }\n",
              "\n",
              "    .dataframe thead th {\n",
              "        text-align: right;\n",
              "    }\n",
              "</style>\n",
              "<table border=\"1\" class=\"dataframe\">\n",
              "  <thead>\n",
              "    <tr style=\"text-align: right;\">\n",
              "      <th></th>\n",
              "      <th>postText</th>\n",
              "      <th>truthClass</th>\n",
              "    </tr>\n",
              "  </thead>\n",
              "  <tbody>\n",
              "    <tr>\n",
              "      <th>0</th>\n",
              "      <td>So when exactly does the New Year begin in space?</td>\n",
              "      <td>1</td>\n",
              "    </tr>\n",
              "    <tr>\n",
              "      <th>1</th>\n",
              "      <td>Time to start doing your homework:</td>\n",
              "      <td>1</td>\n",
              "    </tr>\n",
              "    <tr>\n",
              "      <th>2</th>\n",
              "      <td>The earbuds of the future will let you control...</td>\n",
              "      <td>1</td>\n",
              "    </tr>\n",
              "    <tr>\n",
              "      <th>3</th>\n",
              "      <td>So the (basically) official Arthur Twitter jus...</td>\n",
              "      <td>1</td>\n",
              "    </tr>\n",
              "    <tr>\n",
              "      <th>4</th>\n",
              "      <td>They were hoping to get to the US -- and then ...</td>\n",
              "      <td>1</td>\n",
              "    </tr>\n",
              "    <tr>\n",
              "      <th>...</th>\n",
              "      <td>...</td>\n",
              "      <td>...</td>\n",
              "    </tr>\n",
              "    <tr>\n",
              "      <th>9069</th>\n",
              "      <td>NFL denies barring Lady Gaga from talking poli...</td>\n",
              "      <td>0</td>\n",
              "    </tr>\n",
              "    <tr>\n",
              "      <th>9070</th>\n",
              "      <td>White House press secretary Josh Earnest: The ...</td>\n",
              "      <td>0</td>\n",
              "    </tr>\n",
              "    <tr>\n",
              "      <th>9071</th>\n",
              "      <td>Seeing a lot of pink hats today? The \"Pussyhat...</td>\n",
              "      <td>0</td>\n",
              "    </tr>\n",
              "    <tr>\n",
              "      <th>9072</th>\n",
              "      <td>People with high emotional intelligence are ma...</td>\n",
              "      <td>0</td>\n",
              "    </tr>\n",
              "    <tr>\n",
              "      <th>19080</th>\n",
              "      <td>Richard Sherman weighs in on Cam Newton’s stru...</td>\n",
              "      <td>0</td>\n",
              "    </tr>\n",
              "  </tbody>\n",
              "</table>\n",
              "<p>9074 rows × 2 columns</p>\n",
              "</div>\n",
              "      <button class=\"colab-df-convert\" onclick=\"convertToInteractive('df-c73043f1-7bcd-41e5-9c39-6fa76fa60ff4')\"\n",
              "              title=\"Convert this dataframe to an interactive table.\"\n",
              "              style=\"display:none;\">\n",
              "        \n",
              "  <svg xmlns=\"http://www.w3.org/2000/svg\" height=\"24px\"viewBox=\"0 0 24 24\"\n",
              "       width=\"24px\">\n",
              "    <path d=\"M0 0h24v24H0V0z\" fill=\"none\"/>\n",
              "    <path d=\"M18.56 5.44l.94 2.06.94-2.06 2.06-.94-2.06-.94-.94-2.06-.94 2.06-2.06.94zm-11 1L8.5 8.5l.94-2.06 2.06-.94-2.06-.94L8.5 2.5l-.94 2.06-2.06.94zm10 10l.94 2.06.94-2.06 2.06-.94-2.06-.94-.94-2.06-.94 2.06-2.06.94z\"/><path d=\"M17.41 7.96l-1.37-1.37c-.4-.4-.92-.59-1.43-.59-.52 0-1.04.2-1.43.59L10.3 9.45l-7.72 7.72c-.78.78-.78 2.05 0 2.83L4 21.41c.39.39.9.59 1.41.59.51 0 1.02-.2 1.41-.59l7.78-7.78 2.81-2.81c.8-.78.8-2.07 0-2.86zM5.41 20L4 18.59l7.72-7.72 1.47 1.35L5.41 20z\"/>\n",
              "  </svg>\n",
              "      </button>\n",
              "      \n",
              "  <style>\n",
              "    .colab-df-container {\n",
              "      display:flex;\n",
              "      flex-wrap:wrap;\n",
              "      gap: 12px;\n",
              "    }\n",
              "\n",
              "    .colab-df-convert {\n",
              "      background-color: #E8F0FE;\n",
              "      border: none;\n",
              "      border-radius: 50%;\n",
              "      cursor: pointer;\n",
              "      display: none;\n",
              "      fill: #1967D2;\n",
              "      height: 32px;\n",
              "      padding: 0 0 0 0;\n",
              "      width: 32px;\n",
              "    }\n",
              "\n",
              "    .colab-df-convert:hover {\n",
              "      background-color: #E2EBFA;\n",
              "      box-shadow: 0px 1px 2px rgba(60, 64, 67, 0.3), 0px 1px 3px 1px rgba(60, 64, 67, 0.15);\n",
              "      fill: #174EA6;\n",
              "    }\n",
              "\n",
              "    [theme=dark] .colab-df-convert {\n",
              "      background-color: #3B4455;\n",
              "      fill: #D2E3FC;\n",
              "    }\n",
              "\n",
              "    [theme=dark] .colab-df-convert:hover {\n",
              "      background-color: #434B5C;\n",
              "      box-shadow: 0px 1px 3px 1px rgba(0, 0, 0, 0.15);\n",
              "      filter: drop-shadow(0px 1px 2px rgba(0, 0, 0, 0.3));\n",
              "      fill: #FFFFFF;\n",
              "    }\n",
              "  </style>\n",
              "\n",
              "      <script>\n",
              "        const buttonEl =\n",
              "          document.querySelector('#df-c73043f1-7bcd-41e5-9c39-6fa76fa60ff4 button.colab-df-convert');\n",
              "        buttonEl.style.display =\n",
              "          google.colab.kernel.accessAllowed ? 'block' : 'none';\n",
              "\n",
              "        async function convertToInteractive(key) {\n",
              "          const element = document.querySelector('#df-c73043f1-7bcd-41e5-9c39-6fa76fa60ff4');\n",
              "          const dataTable =\n",
              "            await google.colab.kernel.invokeFunction('convertToInteractive',\n",
              "                                                     [key], {});\n",
              "          if (!dataTable) return;\n",
              "\n",
              "          const docLinkHtml = 'Like what you see? Visit the ' +\n",
              "            '<a target=\"_blank\" href=https://colab.research.google.com/notebooks/data_table.ipynb>data table notebook</a>'\n",
              "            + ' to learn more about interactive tables.';\n",
              "          element.innerHTML = '';\n",
              "          dataTable['output_type'] = 'display_data';\n",
              "          await google.colab.output.renderOutput(dataTable, element);\n",
              "          const docLink = document.createElement('div');\n",
              "          docLink.innerHTML = docLinkHtml;\n",
              "          element.appendChild(docLink);\n",
              "        }\n",
              "      </script>\n",
              "    </div>\n",
              "  </div>\n",
              "  "
            ]
          },
          "metadata": {},
          "execution_count": 53
        }
      ]
    },
    {
      "cell_type": "code",
      "source": [
        "pd.value_counts(train_balanceado['truthClass'])"
      ],
      "metadata": {
        "colab": {
          "base_uri": "https://localhost:8080/"
        },
        "id": "m-SBopHV4r4-",
        "outputId": "52410cc8-9151-4884-9eda-859ea8ccf26d"
      },
      "execution_count": 54,
      "outputs": [
        {
          "output_type": "execute_result",
          "data": {
            "text/plain": [
              "1    4537\n",
              "0    4537\n",
              "Name: truthClass, dtype: int64"
            ]
          },
          "metadata": {},
          "execution_count": 54
        }
      ]
    },
    {
      "cell_type": "markdown",
      "source": [
        "Ahora ya tenemos un datset totalmente balanceado, por lo que procederemos a realizar los mismo cálculos realizados anteriormente.\n",
        "\n",
        "Al conjunto de test no le realizamos de balanceo, pues no es necesario, ya que con ellos no estamos entrenando el modelo, solo lo evaluaríamos."
      ],
      "metadata": {
        "id": "vcUyTG0L8OMn"
      }
    },
    {
      "cell_type": "code",
      "source": [
        "# Hago varias transformaciones para obtener el formato que necesito\n",
        "train_texts = train_balanceado['postText'].to_list()\n",
        "train_labels = train_balanceado['truthClass'].to_list()"
      ],
      "metadata": {
        "id": "njMk9-TH6DUi"
      },
      "execution_count": 55,
      "outputs": []
    },
    {
      "cell_type": "code",
      "source": [
        "train_labels = np.array(train_labels,)"
      ],
      "metadata": {
        "id": "90GJY1kI9Jv6"
      },
      "execution_count": 56,
      "outputs": []
    },
    {
      "cell_type": "markdown",
      "source": [
        "Realizo todos los pasos de nuevo, pero para nuestro nuevo conjunto de entrenamiento."
      ],
      "metadata": {
        "id": "HMAuNSu7ASFg"
      }
    },
    {
      "cell_type": "code",
      "source": [
        "# Ahora usamos el tokenizador para nuestro corpus.\n",
        "train_encodings = tokenizer(train_texts, padding=True)\n",
        "valid_encodings = tokenizer(valid_texts, padding=True)\n",
        "# Puesto que no he usado max_length tomará aquel texto que tenga longitud maxima\n",
        "# por ello padding = True para que rellene con fichas vacías aquellos que son menores que diche longitud"
      ],
      "metadata": {
        "id": "bKMSo7_79Pkl"
      },
      "execution_count": 57,
      "outputs": []
    },
    {
      "cell_type": "code",
      "source": [
        "# convierte los datos tokenizados en un torch dataset\n",
        "# ya que para usar transformers se necesita formato torch \n",
        "train_dataset = NewsGroupsDataset(train_encodings, train_labels)\n",
        "valid_dataset = NewsGroupsDataset(valid_encodings, valid_labels)"
      ],
      "metadata": {
        "id": "TUv7Iv5k9X2Z"
      },
      "execution_count": 58,
      "outputs": []
    },
    {
      "cell_type": "code",
      "source": [
        "trainer3 = Trainer(\n",
        "    model=model1,                         # modelo a entrenar\n",
        "    args=training_args1,                  # argumentos sobre los que se va a entrenar\n",
        "    train_dataset=train_dataset,         # dataset de entrenamiento\n",
        "    eval_dataset=valid_dataset,          # dataset de evaluación\n",
        "    compute_metrics=compute_metrics,     # calcula las métricas de intereés\n",
        ")"
      ],
      "metadata": {
        "id": "lDIdbsle9fkY"
      },
      "execution_count": 59,
      "outputs": []
    },
    {
      "cell_type": "code",
      "source": [
        "# Entrenamiento del modelo\n",
        "trainer3.train()"
      ],
      "metadata": {
        "colab": {
          "base_uri": "https://localhost:8080/",
          "height": 625
        },
        "id": "Xa-P2rLB9rhC",
        "outputId": "10ab4735-4178-4213-bdf3-ad5aa72cdafc"
      },
      "execution_count": 60,
      "outputs": [
        {
          "output_type": "stream",
          "name": "stderr",
          "text": [
            "/usr/local/lib/python3.7/dist-packages/transformers/optimization.py:309: FutureWarning: This implementation of AdamW is deprecated and will be removed in a future version. Use the PyTorch implementation torch.optim.AdamW instead, or set `no_deprecation_warning=True` to disable this warning\n",
            "  FutureWarning,\n",
            "***** Running training *****\n",
            "  Num examples = 9074\n",
            "  Num Epochs = 1\n",
            "  Instantaneous batch size per device = 4\n",
            "  Total train batch size (w. parallel, distributed & accumulation) = 4\n",
            "  Gradient Accumulation steps = 1\n",
            "  Total optimization steps = 2269\n"
          ]
        },
        {
          "output_type": "display_data",
          "data": {
            "text/plain": [
              "<IPython.core.display.HTML object>"
            ],
            "text/html": [
              "\n",
              "    <div>\n",
              "      \n",
              "      <progress value='2269' max='2269' style='width:300px; height:20px; vertical-align: middle;'></progress>\n",
              "      [2269/2269 06:31, Epoch 1/1]\n",
              "    </div>\n",
              "    <table border=\"1\" class=\"dataframe\">\n",
              "  <thead>\n",
              " <tr style=\"text-align: left;\">\n",
              "      <th>Step</th>\n",
              "      <th>Training Loss</th>\n",
              "      <th>Validation Loss</th>\n",
              "      <th>Accuracy</th>\n",
              "      <th>Recall</th>\n",
              "      <th>Precision</th>\n",
              "      <th>F1</th>\n",
              "    </tr>\n",
              "  </thead>\n",
              "  <tbody>\n",
              "    <tr>\n",
              "      <td>800</td>\n",
              "      <td>0.596300</td>\n",
              "      <td>0.435796</td>\n",
              "      <td>0.846652</td>\n",
              "      <td>0.631885</td>\n",
              "      <td>0.683681</td>\n",
              "      <td>0.656763</td>\n",
              "    </tr>\n",
              "    <tr>\n",
              "      <td>1600</td>\n",
              "      <td>0.585600</td>\n",
              "      <td>0.529458</td>\n",
              "      <td>0.849943</td>\n",
              "      <td>0.484313</td>\n",
              "      <td>0.787604</td>\n",
              "      <td>0.599799</td>\n",
              "    </tr>\n",
              "  </tbody>\n",
              "</table><p>"
            ]
          },
          "metadata": {}
        },
        {
          "output_type": "stream",
          "name": "stderr",
          "text": [
            "***** Running Evaluation *****\n",
            "  Num examples = 18533\n",
            "  Batch size = 8\n",
            "Saving model checkpoint to ./results/checkpoint-800\n",
            "Configuration saved in ./results/checkpoint-800/config.json\n",
            "Model weights saved in ./results/checkpoint-800/pytorch_model.bin\n",
            "***** Running Evaluation *****\n",
            "  Num examples = 18533\n",
            "  Batch size = 8\n",
            "Saving model checkpoint to ./results/checkpoint-1600\n",
            "Configuration saved in ./results/checkpoint-1600/config.json\n",
            "Model weights saved in ./results/checkpoint-1600/pytorch_model.bin\n",
            "\n",
            "\n",
            "Training completed. Do not forget to share your model on huggingface.co/models =)\n",
            "\n",
            "\n",
            "Loading best model from ./results/checkpoint-800 (score: 0.4357962906360626).\n"
          ]
        },
        {
          "output_type": "execute_result",
          "data": {
            "text/plain": [
              "TrainOutput(global_step=2269, training_loss=0.5752434089563133, metrics={'train_runtime': 391.6838, 'train_samples_per_second': 23.167, 'train_steps_per_second': 5.793, 'total_flos': 484954786130880.0, 'train_loss': 0.5752434089563133, 'epoch': 1.0})"
            ]
          },
          "metadata": {},
          "execution_count": 60
        }
      ]
    },
    {
      "cell_type": "code",
      "source": [
        "# Evaluamos el mejor modelo obtenido después del entrenamiento\n",
        "trainer3.evaluate()"
      ],
      "metadata": {
        "colab": {
          "base_uri": "https://localhost:8080/",
          "height": 245
        },
        "id": "-FLUM9TQ9wgP",
        "outputId": "816a4058-79e3-4a7a-de12-b2f308884656"
      },
      "execution_count": 61,
      "outputs": [
        {
          "output_type": "stream",
          "name": "stderr",
          "text": [
            "***** Running Evaluation *****\n",
            "  Num examples = 18533\n",
            "  Batch size = 8\n"
          ]
        },
        {
          "output_type": "display_data",
          "data": {
            "text/plain": [
              "<IPython.core.display.HTML object>"
            ],
            "text/html": [
              "\n",
              "    <div>\n",
              "      \n",
              "      <progress value='2317' max='2317' style='width:300px; height:20px; vertical-align: middle;'></progress>\n",
              "      [2317/2317 00:55]\n",
              "    </div>\n",
              "    "
            ]
          },
          "metadata": {}
        },
        {
          "output_type": "execute_result",
          "data": {
            "text/plain": [
              "{'epoch': 1.0,\n",
              " 'eval_accuracy': 0.8466519181999677,\n",
              " 'eval_f1': 0.6567632850241546,\n",
              " 'eval_loss': 0.4357962906360626,\n",
              " 'eval_precision': 0.6836811667085743,\n",
              " 'eval_recall': 0.6318847315826168,\n",
              " 'eval_runtime': 55.1143,\n",
              " 'eval_samples_per_second': 336.265,\n",
              " 'eval_steps_per_second': 42.04}"
            ]
          },
          "metadata": {},
          "execution_count": 61
        }
      ]
    },
    {
      "cell_type": "code",
      "source": [
        "trainer4 = Trainer(\n",
        "    model=model1,                         # modelo a entrenar\n",
        "    args=training_args2,                  # argumentos sobre los que se va a entrenar\n",
        "    train_dataset=train_dataset,         # dataset de entrenamiento\n",
        "    eval_dataset=valid_dataset,          # dataset de evaluación\n",
        "    compute_metrics=compute_metrics,     # calcula las métricas de intereés\n",
        ")"
      ],
      "metadata": {
        "id": "hu_yIg1U937S"
      },
      "execution_count": 62,
      "outputs": []
    },
    {
      "cell_type": "code",
      "source": [
        "# Entrenamiento del modelo\n",
        "trainer4.train()"
      ],
      "metadata": {
        "colab": {
          "base_uri": "https://localhost:8080/",
          "height": 760
        },
        "id": "zQI5L2BJ939y",
        "outputId": "fb466b73-a503-43a2-ba19-a35e5b7cd429"
      },
      "execution_count": 63,
      "outputs": [
        {
          "output_type": "stream",
          "name": "stderr",
          "text": [
            "/usr/local/lib/python3.7/dist-packages/transformers/optimization.py:309: FutureWarning: This implementation of AdamW is deprecated and will be removed in a future version. Use the PyTorch implementation torch.optim.AdamW instead, or set `no_deprecation_warning=True` to disable this warning\n",
            "  FutureWarning,\n",
            "***** Running training *****\n",
            "  Num examples = 9074\n",
            "  Num Epochs = 2\n",
            "  Instantaneous batch size per device = 8\n",
            "  Total train batch size (w. parallel, distributed & accumulation) = 8\n",
            "  Gradient Accumulation steps = 1\n",
            "  Total optimization steps = 2270\n"
          ]
        },
        {
          "output_type": "display_data",
          "data": {
            "text/plain": [
              "<IPython.core.display.HTML object>"
            ],
            "text/html": [
              "\n",
              "    <div>\n",
              "      \n",
              "      <progress value='2270' max='2270' style='width:300px; height:20px; vertical-align: middle;'></progress>\n",
              "      [2270/2270 09:38, Epoch 2/2]\n",
              "    </div>\n",
              "    <table border=\"1\" class=\"dataframe\">\n",
              "  <thead>\n",
              " <tr style=\"text-align: left;\">\n",
              "      <th>Step</th>\n",
              "      <th>Training Loss</th>\n",
              "      <th>Validation Loss</th>\n",
              "      <th>Accuracy</th>\n",
              "      <th>Recall</th>\n",
              "      <th>Precision</th>\n",
              "      <th>F1</th>\n",
              "    </tr>\n",
              "  </thead>\n",
              "  <tbody>\n",
              "    <tr>\n",
              "      <td>600</td>\n",
              "      <td>0.440100</td>\n",
              "      <td>0.529372</td>\n",
              "      <td>0.816705</td>\n",
              "      <td>0.821055</td>\n",
              "      <td>0.573539</td>\n",
              "      <td>0.675332</td>\n",
              "    </tr>\n",
              "    <tr>\n",
              "      <td>1200</td>\n",
              "      <td>0.453500</td>\n",
              "      <td>0.443358</td>\n",
              "      <td>0.840501</td>\n",
              "      <td>0.778527</td>\n",
              "      <td>0.625817</td>\n",
              "      <td>0.693869</td>\n",
              "    </tr>\n",
              "    <tr>\n",
              "      <td>1800</td>\n",
              "      <td>0.406700</td>\n",
              "      <td>0.462056</td>\n",
              "      <td>0.842659</td>\n",
              "      <td>0.745062</td>\n",
              "      <td>0.638010</td>\n",
              "      <td>0.687393</td>\n",
              "    </tr>\n",
              "  </tbody>\n",
              "</table><p>"
            ]
          },
          "metadata": {}
        },
        {
          "output_type": "stream",
          "name": "stderr",
          "text": [
            "***** Running Evaluation *****\n",
            "  Num examples = 18533\n",
            "  Batch size = 8\n",
            "Saving model checkpoint to ./results/checkpoint-600\n",
            "Configuration saved in ./results/checkpoint-600/config.json\n",
            "Model weights saved in ./results/checkpoint-600/pytorch_model.bin\n",
            "***** Running Evaluation *****\n",
            "  Num examples = 18533\n",
            "  Batch size = 8\n",
            "Saving model checkpoint to ./results/checkpoint-1200\n",
            "Configuration saved in ./results/checkpoint-1200/config.json\n",
            "Model weights saved in ./results/checkpoint-1200/pytorch_model.bin\n",
            "***** Running Evaluation *****\n",
            "  Num examples = 18533\n",
            "  Batch size = 8\n",
            "Saving model checkpoint to ./results/checkpoint-1800\n",
            "Configuration saved in ./results/checkpoint-1800/config.json\n",
            "Model weights saved in ./results/checkpoint-1800/pytorch_model.bin\n",
            "\n",
            "\n",
            "Training completed. Do not forget to share your model on huggingface.co/models =)\n",
            "\n",
            "\n",
            "Loading best model from ./results/checkpoint-1200 (score: 0.44335779547691345).\n"
          ]
        },
        {
          "output_type": "execute_result",
          "data": {
            "text/plain": [
              "TrainOutput(global_step=2270, training_loss=0.43009160919861644, metrics={'train_runtime': 578.5731, 'train_samples_per_second': 31.367, 'train_steps_per_second': 3.923, 'total_flos': 969909572261760.0, 'train_loss': 0.43009160919861644, 'epoch': 2.0})"
            ]
          },
          "metadata": {},
          "execution_count": 63
        }
      ]
    },
    {
      "cell_type": "code",
      "source": [
        "# Evaluamos el mejor modelo obtenido después del entrenamiento\n",
        "trainer4.evaluate()"
      ],
      "metadata": {
        "colab": {
          "base_uri": "https://localhost:8080/",
          "height": 245
        },
        "id": "6TcTOfuS94AP",
        "outputId": "564100a4-579e-4f82-8e2f-173a675b9fbf"
      },
      "execution_count": 64,
      "outputs": [
        {
          "output_type": "stream",
          "name": "stderr",
          "text": [
            "***** Running Evaluation *****\n",
            "  Num examples = 18533\n",
            "  Batch size = 8\n"
          ]
        },
        {
          "output_type": "display_data",
          "data": {
            "text/plain": [
              "<IPython.core.display.HTML object>"
            ],
            "text/html": [
              "\n",
              "    <div>\n",
              "      \n",
              "      <progress value='2317' max='2317' style='width:300px; height:20px; vertical-align: middle;'></progress>\n",
              "      [2317/2317 00:54]\n",
              "    </div>\n",
              "    "
            ]
          },
          "metadata": {}
        },
        {
          "output_type": "execute_result",
          "data": {
            "text/plain": [
              "{'epoch': 2.0,\n",
              " 'eval_accuracy': 0.8405007284303675,\n",
              " 'eval_f1': 0.6938690969345485,\n",
              " 'eval_loss': 0.44335779547691345,\n",
              " 'eval_precision': 0.6258172987110032,\n",
              " 'eval_recall': 0.7785266093423193,\n",
              " 'eval_runtime': 54.8124,\n",
              " 'eval_samples_per_second': 338.117,\n",
              " 'eval_steps_per_second': 42.271}"
            ]
          },
          "metadata": {},
          "execution_count": 64
        }
      ]
    }
  ]
}